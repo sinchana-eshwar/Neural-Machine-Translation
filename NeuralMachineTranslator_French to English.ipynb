{
 "cells": [
  {
   "cell_type": "markdown",
   "metadata": {},
   "source": [
    "## Neural Machine Translation\n",
    "\n",
    "## Introduction\n",
    "In this notebook, we will build a deep neural network that functions as part of an end-to-end machine translation pipeline. The completed pipeline will accept french text as input and return the english translation.\n",
    "\n",
    "__Proposed Approach__\n",
    "\n",
    "- Preprocessing: Load and examine data, cleaning, tokenization, padding\n",
    "- Modeling: Build an encoder-decoder model with Attention\n",
    "- Prediction: Generate specific translations of French to English, and compare the output translations to the ground truth translations"
   ]
  },
  {
   "cell_type": "code",
   "execution_count": 1,
   "metadata": {},
   "outputs": [
    {
     "name": "stderr",
     "output_type": "stream",
     "text": [
      "Using TensorFlow backend.\n",
      "UsageError: Line magic function `%` not found.\n"
     ]
    }
   ],
   "source": [
    "from __future__ import print_function, division\n",
    "from builtins import range, input\n",
    "import pickle\n",
    "import os, sys\n",
    "import string\n",
    "import pandas as pd\n",
    "import re\n",
    "import numpy as np\n",
    "import matplotlib.pyplot as plt\n",
    "import matplotlib.pyplot as plt\n",
    "\n",
    "\n",
    "from keras.models import Model\n",
    "from keras.layers import Input, LSTM, GRU, Dense, Embedding, \\\n",
    "  Bidirectional, RepeatVector, Concatenate, Activation, Dot, Lambda\n",
    "from keras.preprocessing.text import Tokenizer\n",
    "from keras.preprocessing.sequence import pad_sequences\n",
    "import keras.backend as K\n",
    "from keras.callbacks import ModelCheckpoint\n",
    "from keras.models import load_model\n",
    "from keras.optimizers import adam\n",
    "from keras import optimizers\n",
    "from sklearn.model_selection import train_test_split\n",
    "\n",
    "% matplotlib inline\n",
    "pd.set_option('display.max_colwidth', 200)"
   ]
  },
  {
   "cell_type": "markdown",
   "metadata": {},
   "source": [
    "### Model Configurations"
   ]
  },
  {
   "cell_type": "code",
   "execution_count": 2,
   "metadata": {},
   "outputs": [],
   "source": [
    "# config\n",
    "BATCH_SIZE = 512\n",
    "EPOCHS = 100\n",
    "LATENT_DIM = 256\n",
    "LATENT_DIM_DECODER = 256 \n",
    "EMBEDDING_DIM = 200\n"
   ]
  },
  {
   "cell_type": "markdown",
   "metadata": {},
   "source": [
    "## Dataset\n",
    "We begin by investigating the dataset that will be used to train and evaluate your pipeline.  \n",
    "\n",
    "### Load Data - Train and Test \n",
    "The `data_en` file contains English sentences with their French translations in the `data_fr` file. Load the English and French data from these files from running the cell below."
   ]
  },
  {
   "cell_type": "code",
   "execution_count": 3,
   "metadata": {},
   "outputs": [],
   "source": [
    "with open('French_test.pkl', 'rb') as handle:\n",
    "    fr_test = pickle.load(handle)"
   ]
  },
  {
   "cell_type": "code",
   "execution_count": 4,
   "metadata": {},
   "outputs": [],
   "source": [
    "with open('English_test.pkl', 'rb') as handle:\n",
    "    en_test = pickle.load(handle)"
   ]
  },
  {
   "cell_type": "code",
   "execution_count": 5,
   "metadata": {},
   "outputs": [],
   "source": [
    "with open('French_train.pkl', 'rb') as handle:\n",
    "    fr_train = pickle.load(handle)"
   ]
  },
  {
   "cell_type": "code",
   "execution_count": 6,
   "metadata": {},
   "outputs": [],
   "source": [
    "with open('English_train.pkl', 'rb') as handle:\n",
    "    en_train = pickle.load(handle)"
   ]
  },
  {
   "cell_type": "code",
   "execution_count": 7,
   "metadata": {},
   "outputs": [],
   "source": [
    "NUM_SAMPLES=len(fr_test)+len(fr_train)"
   ]
  },
  {
   "cell_type": "code",
   "execution_count": 8,
   "metadata": {},
   "outputs": [
    {
     "name": "stdout",
     "output_type": "stream",
     "text": [
      "Sample train size: 56000\n"
     ]
    }
   ],
   "source": [
    "input_texts = [] # French sentences\n",
    "target_texts = [] # English sentences\n",
    "target_texts_inputs = []# english sentences offset by 1 for teacher forcing\n",
    "\n",
    "#Converting to lowercase\n",
    "fr_train=[line.lower() for line in fr_train]\n",
    "en_train=[line.lower() for line in en_train]\n",
    "NUM_SAMPLES=len(fr_train)\n",
    "print(\"Sample train size:\",NUM_SAMPLES)"
   ]
  },
  {
   "cell_type": "code",
   "execution_count": 9,
   "metadata": {},
   "outputs": [
    {
     "data": {
      "text/plain": [
       "14000"
      ]
     },
     "execution_count": 9,
     "metadata": {},
     "output_type": "execute_result"
    }
   ],
   "source": [
    "len(fr_test)"
   ]
  },
  {
   "cell_type": "markdown",
   "metadata": {},
   "source": [
    "From looking at the sentences, you can see that they have been preprocessed already.  The puncuations have been delimited using spaces. All the text have been converted to lowercase.  This should save you some time, but the text requires more preprocessing."
   ]
  },
  {
   "cell_type": "markdown",
   "metadata": {},
   "source": [
    "## Preprocess\n",
    "For this project, you won't use text data as input to your model. Instead, you'll convert the text into sequences of integers using the following preprocess methods:\n",
    "1. Add start and end tokens to the sentences\n",
    "2. Tokenize the words of the sentences\n",
    "3. Add padding to make all the sequences of same length.\n",
    "\n",
    "Time to start preprocessing the data...\n",
    "### Tokenize \n",
    "For a neural network to predict on text data, it first has to be turned into data it can understand. Text data like \"dog\" is a sequence of ASCII character encodings.  Since a neural network is a series of multiplication and addition operations, the input data needs to be number(s).\n",
    "\n",
    "We can turn each character into a number or each word into a number.  These are called character and word ids, respectively.  Character ids are used for character level models that generate text predictions for each character.  A word level model uses word ids that generate text predictions for each word.  Word level models tend to learn better, since they are lower in complexity, so we'll use those.\n",
    "\n",
    "Turn each sentence into a sequence of words ids using Keras's [`Tokenizer`](https://keras.io/preprocessing/text/#tokenizer) function. Use this function to tokenize `english_sentences` and `french_sentences` in the cell below.\n",
    "\n",
    "\n",
    "### Padding\n",
    "When batching the sequence of word ids together, each sequence needs to be the same length. Since sentences are dynamic in length, we can add padding to the end of the sequences to make them the same length.\n",
    "\n",
    "Make sure all the English sequences have the same length and all the French sequences have the same length by adding padding to the end of each sequence using Keras's [`pad_sequences`](https://keras.io/preprocessing/sequence/#pad_sequences) function."
   ]
  },
  {
   "cell_type": "markdown",
   "metadata": {},
   "source": [
    "__Preprocess Train Data__"
   ]
  },
  {
   "cell_type": "code",
   "execution_count": 10,
   "metadata": {},
   "outputs": [],
   "source": [
    "#Adding <sos> and <eos> tokens\n",
    "\n",
    "for lines in en_train:\n",
    "    target_texts_inputs.append('<sos>'+\" \"+ lines)\n",
    "    \n",
    "for lines in en_train:\n",
    "    target_texts.append(lines+ \" \" +'<eos>')\n",
    "    \n",
    "for lines in fr_train:\n",
    "    input_texts.append(lines)"
   ]
  },
  {
   "cell_type": "code",
   "execution_count": 11,
   "metadata": {},
   "outputs": [
    {
     "name": "stdout",
     "output_type": "stream",
     "text": [
      "Data Preprocessed\n",
      "Max train English sentence length: 9\n",
      "Max train French sentence length: 9\n",
      "Unique French Vocabulary count: 14143\n",
      "Unique English Vocabulary count: 6842\n"
     ]
    }
   ],
   "source": [
    "# tokenize French sentences\n",
    "tokenizer_inputs = Tokenizer()\n",
    "tokenizer_inputs.fit_on_texts(input_texts)\n",
    "input_sequences = tokenizer_inputs.texts_to_sequences(input_texts)\n",
    "\n",
    "# word to index mapping for French\n",
    "word2idx_inputs = tokenizer_inputs.word_index\n",
    "\n",
    "# Max length of French sentence\n",
    "max_len_input = max(len(s) for s in input_sequences)\n",
    "\n",
    "#tokenize English sentences\n",
    "tokenizer_outputs = Tokenizer(filters='')\n",
    "tokenizer_outputs.fit_on_texts(target_texts + target_texts_inputs) \n",
    "target_sequences = tokenizer_outputs.texts_to_sequences(target_texts)\n",
    "target_sequences_inputs = tokenizer_outputs.texts_to_sequences(target_texts_inputs)\n",
    "\n",
    "# Word to index mapping for English\n",
    "word2idx_outputs = tokenizer_outputs.word_index\n",
    "\n",
    "# store number of output words for later\n",
    "num_words_output = len(word2idx_outputs) + 1\n",
    "\n",
    "# Max length of English sentence\n",
    "max_len_target = max(len(s) for s in target_sequences)\n",
    "\n",
    "# pad the sequences\n",
    "encoder_inputs = pad_sequences(input_sequences, maxlen=max_len_input)\n",
    "decoder_inputs = pad_sequences(target_sequences_inputs, maxlen=max_len_target, padding='post')\n",
    "decoder_targets = pad_sequences(target_sequences, maxlen=max_len_target, padding='post')\n",
    "\n",
    "print('Data Preprocessed')\n",
    "print(\"Max train English sentence length:\", max_len_target)\n",
    "print(\"Max train French sentence length:\", max_len_input)\n",
    "print(\"Unique French Vocabulary count:\",len(word2idx_inputs))\n",
    "print(\"Unique English Vocabulary count:\",len(word2idx_outputs))"
   ]
  },
  {
   "cell_type": "markdown",
   "metadata": {},
   "source": [
    "__Preprocess Test Data__"
   ]
  },
  {
   "cell_type": "code",
   "execution_count": 12,
   "metadata": {},
   "outputs": [],
   "source": [
    "##Test Preparation\n",
    "input_texts_test = [] # French sentences\n",
    "target_texts_test = [] # English sentences\n",
    "target_texts_inputs_test = []# english sentences offset by 1 for teacher forcing\n",
    "\n",
    "#Converting to lowercase\n",
    "fr_test=[line.lower() for line in fr_test]\n",
    "en_test=[line.lower() for line in en_test]"
   ]
  },
  {
   "cell_type": "code",
   "execution_count": 13,
   "metadata": {},
   "outputs": [],
   "source": [
    "#Adding <sos> and <eos> tokens\n",
    "\n",
    "for lines in en_test:\n",
    "    target_texts_inputs_test.append('<sos>'+\" \"+ lines)\n",
    "    \n",
    "for lines in en_test:\n",
    "    target_texts_test.append(lines+ \" \" +'<eos>')\n",
    "    \n",
    "for lines in fr_test:\n",
    "    input_texts_test.append(lines)"
   ]
  },
  {
   "cell_type": "code",
   "execution_count": 14,
   "metadata": {},
   "outputs": [
    {
     "name": "stdout",
     "output_type": "stream",
     "text": [
      "Max test English sentence length: 9\n",
      "Max test French sentence length: 9\n"
     ]
    }
   ],
   "source": [
    "# tokenize French sentences\n",
    "\n",
    "input_sequences_test = tokenizer_inputs.texts_to_sequences(input_texts_test)\n",
    "\n",
    "\n",
    "target_sequences_test = tokenizer_outputs.texts_to_sequences(target_texts_test)\n",
    "target_sequences_inputs_test = tokenizer_outputs.texts_to_sequences(target_texts_inputs_test)\n",
    "\n",
    "# pad the sequences\n",
    "encoder_inputs_test = pad_sequences(input_sequences_test, maxlen=max_len_input)\n",
    "decoder_inputs_test = pad_sequences(target_sequences_inputs_test, maxlen=max_len_target, padding='post')\n",
    "decoder_targets_test = pad_sequences(target_sequences_test, maxlen=max_len_target, padding='post')\n",
    "\n",
    "print(\"Max test English sentence length:\", decoder_inputs_test.shape[1])\n",
    "print(\"Max test French sentence length:\", encoder_inputs_test.shape[1])"
   ]
  },
  {
   "cell_type": "markdown",
   "metadata": {},
   "source": [
    "### Embedding\n",
    "\n",
    "In word embeddings, every word is represented as an n-dimensional dense vector. The words that are similar will have similar vector. The position of a word within the vector space is learned from text and is based on the words that surround the word when it is used.\n",
    "\n",
    "For French sentences, i.e. the inputs, we will use the [`GloVe`](https://nlp.stanford.edu/projects/glove/) word embeddings. For the translated English sentences in the output, we will use custom word embeddings.\n",
    "\n",
    "Let's create word embeddings for the inputs first. To do so, we need to load the GloVe word vectors into memory. We will then create a dictionary where words are the keys and the corresponding vectors are values, as shown below:"
   ]
  },
  {
   "cell_type": "code",
   "execution_count": 16,
   "metadata": {},
   "outputs": [
    {
     "name": "stdout",
     "output_type": "stream",
     "text": [
      "Loading word vectors...\n",
      "Found 400000 word vectors.\n"
     ]
    }
   ],
   "source": [
    "#Load pretrained word vectors from Glove\n",
    "print('Loading word vectors...')\n",
    "word2vec = {}\n",
    "with open(os.path.join('glove.6B/glove.6B.%sd.txt' % EMBEDDING_DIM), encoding=\"utf8\") as f:\n",
    "  # is just a space-separated text file in the format:\n",
    "  # word vec[0] vec[1] vec[2] ...\n",
    "  for line in f:\n",
    "    values = line.split()\n",
    "    word = values[0]\n",
    "    vec = np.asarray(values[1:], dtype='float32')\n",
    "    word2vec[word] = vec\n",
    "print('Found %s word vectors.' % len(word2vec))\n"
   ]
  },
  {
   "cell_type": "code",
   "execution_count": 17,
   "metadata": {},
   "outputs": [
    {
     "name": "stdout",
     "output_type": "stream",
     "text": [
      "Filling pre-trained embeddings...\n"
     ]
    }
   ],
   "source": [
    "# prepare embedding matrix\n",
    "print('Filling pre-trained embeddings...')\n",
    "num_words=len(word2idx_inputs) + 1\n",
    "embedding_matrix = np.zeros((num_words, EMBEDDING_DIM))\n",
    "for word, i in word2idx_inputs.items():\n",
    "  if i < num_words:\n",
    "    embedding_vector = word2vec.get(word)\n",
    "    if embedding_vector is not None:\n",
    "      # words not found in embedding index will be all zeros.\n",
    "      embedding_matrix[i] = embedding_vector"
   ]
  },
  {
   "cell_type": "markdown",
   "metadata": {},
   "source": [
    "### Creating the Model\n",
    "The idea is to have two recurrent neural networks (RNNs) with an encoder-decoder architecture: read the input words one by one to obtain a vector representation of a fixed dimensionality (encoder), and, conditioned on these inputs, extract the output words one by one using another RNN (decoder).\n"
   ]
  },
  {
   "cell_type": "markdown",
   "metadata": {},
   "source": [
    "### Define Softmax Activation Function"
   ]
  },
  {
   "cell_type": "code",
   "execution_count": 18,
   "metadata": {},
   "outputs": [],
   "source": [
    "def softmax_over_time(x):\n",
    "  assert(K.ndim(x) > 2)\n",
    "  e = K.exp(x - K.max(x, axis=1, keepdims=True))\n",
    "  s = K.sum(e, axis=1, keepdims=True)\n",
    "  return e / s"
   ]
  },
  {
   "cell_type": "markdown",
   "metadata": {},
   "source": [
    "### Define Embedding Layer"
   ]
  },
  {
   "cell_type": "code",
   "execution_count": 19,
   "metadata": {},
   "outputs": [],
   "source": [
    "# create embedding layer\n",
    "embedding_layer = Embedding(\n",
    "  num_words,\n",
    "  EMBEDDING_DIM,\n",
    "  weights=[embedding_matrix],\n",
    "  input_length=max_len_input,\n",
    "  # trainable=True\n",
    ")\n"
   ]
  },
  {
   "cell_type": "markdown",
   "metadata": {},
   "source": [
    "### One-hot Encoding\n",
    "\n",
    "To make predictions, the final layer of the model will be a dense layer, therefore we need the outputs in the form of one-hot encoded vectors, since we will be using softmax activation function at the dense layer. To create such one-hot encoded output, the next step is to assign 1 to the column number that corresponds to the integer representation of the word. "
   ]
  },
  {
   "cell_type": "code",
   "execution_count": 20,
   "metadata": {},
   "outputs": [],
   "source": [
    "\n",
    "decoder_targets_one_hot = np.zeros(\n",
    "  (\n",
    "    len(input_texts),\n",
    "    max_len_target,\n",
    "    num_words_output\n",
    "  ),\n",
    "  dtype='float32'\n",
    ")\n",
    "\n",
    "# assign the values\n",
    "for i, d in enumerate(decoder_targets):\n",
    "  for t, word in enumerate(d):\n",
    "    decoder_targets_one_hot[i, t, word] = 1"
   ]
  },
  {
   "cell_type": "markdown",
   "metadata": {},
   "source": [
    "### Define Encoding Layer\n",
    "The input to the encoder will be the sentence in French and the output will be the hidden state and cell state of the LSTM."
   ]
  },
  {
   "cell_type": "code",
   "execution_count": 21,
   "metadata": {},
   "outputs": [],
   "source": [
    "#encoder\n",
    "encoder_inputs_placeholder = Input(shape=(max_len_input,))\n",
    "x = embedding_layer(encoder_inputs_placeholder)\n",
    "encoder = Bidirectional(LSTM(\n",
    "  LATENT_DIM,\n",
    "  return_sequences=True, dropout=0.2\n",
    "))\n",
    "encoder_outputs = encoder(x)\n"
   ]
  },
  {
   "cell_type": "markdown",
   "metadata": {},
   "source": [
    "### Define Decoder Layer\n",
    "\n",
    "The next step is to define the decoder. The decoder will have two inputs: the hidden state and cell state from the encoder and the input sentence, which actually will be the output sentence with an \"</sos/>\" token appended at the beginning."
   ]
  },
  {
   "cell_type": "code",
   "execution_count": 22,
   "metadata": {},
   "outputs": [],
   "source": [
    "#Decoder\n",
    "decoder_inputs_placeholder = Input(shape=(max_len_target,))\n",
    "decoder_embedding = Embedding(num_words_output, EMBEDDING_DIM)\n",
    "decoder_inputs_x = decoder_embedding(decoder_inputs_placeholder)\n",
    "\n"
   ]
  },
  {
   "cell_type": "markdown",
   "metadata": {},
   "source": [
    "### Define Attention Layers"
   ]
  },
  {
   "cell_type": "markdown",
   "metadata": {},
   "source": [
    "To improve the performance of the Neural Machine Translator, Attention mechanism (Dot attention) is implemented. The attention model develops a context vector that is filtered specifically for each output time step.\n",
    "\n",
    "Attention places different focus on different words by assigning each word with a score. Then, using the softmaxed scores, we aggregate the encoder hidden states using a weighted sum of the encoder hidden states, to get the context vector. \n",
    "\n",
    "Rather than re-iterating through the equations for calculating attention, a function `one_step_attention` is defined. "
   ]
  },
  {
   "cell_type": "code",
   "execution_count": 23,
   "metadata": {},
   "outputs": [],
   "source": [
    "#Attention\n",
    "attn_repeat_layer = RepeatVector(max_len_input)\n",
    "attn_concat_layer = Concatenate(axis=-1)\n",
    "attn_dense1 = Dense(10, activation='tanh')\n",
    "attn_dense2 = Dense(1, activation=softmax_over_time)\n",
    "\n",
    "attn_dot = Dot(axes=1) # to perform the weighted sum of alpha[t] * h[t]\n"
   ]
  },
  {
   "cell_type": "code",
   "execution_count": 24,
   "metadata": {},
   "outputs": [],
   "source": [
    "def one_step_attention(h, st_1):\n",
    "  # h = h(1), ..., h(Tx), shape = (Tx, LATENT_DIM * 2)\n",
    "  # st_1 = s(t-1), shape = (LATENT_DIM_DECODER,)\n",
    " \n",
    "  # copy s(t-1) Tx times\n",
    "  # now shape = (Tx, LATENT_DIM_DECODER)\n",
    "  st_1 = attn_repeat_layer(st_1)\n",
    "\n",
    "  # Concatenate all h(t)'s with s(t-1)\n",
    "  # Now of shape (Tx, LATENT_DIM_DECODER + LATENT_DIM * 2)\n",
    "  x = attn_concat_layer([h, st_1])\n",
    "\n",
    "  # Neural net first layer\n",
    "  x = attn_dense1(x)\n",
    "\n",
    "  # Neural net second layer with special softmax over time\n",
    "  alphas = attn_dense2(x)\n",
    "\n",
    "  # \"Dot\" the alphas and the h's\n",
    "  # Remember a.dot(b) = sum over a[t] * b[t]\n",
    "  context = attn_dot([alphas, h])\n",
    "\n",
    "  return context\n"
   ]
  },
  {
   "cell_type": "code",
   "execution_count": 25,
   "metadata": {},
   "outputs": [],
   "source": [
    "# define the rest of the decoder (after attention)\n",
    "decoder_lstm = LSTM(LATENT_DIM_DECODER, return_state=True)\n",
    "decoder_dense = Dense(num_words_output, activation='softmax')\n",
    "\n",
    "initial_s = Input(shape=(LATENT_DIM_DECODER,), name='s0')\n",
    "initial_c = Input(shape=(LATENT_DIM_DECODER,), name='c0')\n",
    "context_last_word_concat_layer = Concatenate(axis=2)"
   ]
  },
  {
   "cell_type": "code",
   "execution_count": 26,
   "metadata": {},
   "outputs": [],
   "source": [
    "# s, c will be re-assigned in each iteration of the loop\n",
    "s = initial_s\n",
    "c = initial_c\n",
    "\n",
    "# collect outputs in a list at first\n",
    "outputs = []\n",
    "for t in range(max_len_target): # Ty times\n",
    "  # get the context using attention\n",
    "  context = one_step_attention(encoder_outputs, s)\n",
    "\n",
    "  # we need a different layer for each time step\n",
    "  selector = Lambda(lambda x: x[:, t:t+1])\n",
    "  xt = selector(decoder_inputs_x)\n",
    "  \n",
    "  # combine \n",
    "  decoder_lstm_input = context_last_word_concat_layer([context, xt])\n",
    "\n",
    "  # pass the combined [context, last word] into the LSTM\n",
    "  # along with [s, c]\n",
    "  # get the new [s, c] and output\n",
    "  o, s, c = decoder_lstm(decoder_lstm_input, initial_state=[s, c])\n",
    "\n",
    "  # final dense layer to get next word prediction\n",
    "  decoder_outputs = decoder_dense(o)\n",
    "  outputs.append(decoder_outputs)"
   ]
  },
  {
   "cell_type": "code",
   "execution_count": 27,
   "metadata": {},
   "outputs": [],
   "source": [
    "def stack_and_transpose(x):\n",
    "  # x is a list of length T, each element is a batch_size x output_vocab_size tensor\n",
    "  x = K.stack(x) # is now T x batch_size x output_vocab_size tensor\n",
    "  x = K.permute_dimensions(x, pattern=(1, 0, 2)) # is now batch_size x T x output_vocab_size\n",
    "  return x\n",
    "\n",
    "# make it a layerx``\n",
    "stacker = Lambda(stack_and_transpose)\n",
    "outputs = stacker(outputs)\n"
   ]
  },
  {
   "cell_type": "code",
   "execution_count": 28,
   "metadata": {},
   "outputs": [],
   "source": [
    "# create the model\n",
    "model = Model(\n",
    "  inputs=[\n",
    "    encoder_inputs_placeholder,\n",
    "    decoder_inputs_placeholder,\n",
    "    initial_s, \n",
    "    initial_c,\n",
    "  ],\n",
    "  outputs=outputs\n",
    ")"
   ]
  },
  {
   "cell_type": "markdown",
   "metadata": {},
   "source": [
    "### Model Training"
   ]
  },
  {
   "cell_type": "code",
   "execution_count": 29,
   "metadata": {},
   "outputs": [],
   "source": [
    "learning_rate=0.001\n",
    "# checkpoint\n",
    "filepath=\"french_eng_finalmodel\"\n",
    "checkpoint = ModelCheckpoint(filepath, monitor='val_accuracy', verbose=1, save_best_only=True, mode='max')\n",
    "callbacks_list = [checkpoint]\n",
    "\n",
    "# compile the model\n",
    "\n",
    "model.compile(optimizer=optimizers.Adam(learning_rate) ,loss='categorical_crossentropy', metrics=['accuracy'])\n"
   ]
  },
  {
   "cell_type": "code",
   "execution_count": 30,
   "metadata": {},
   "outputs": [
    {
     "name": "stdout",
     "output_type": "stream",
     "text": [
      "WARNING:tensorflow:From C:\\Users\\sinch\\Anaconda3\\envs\\tensorflow\\lib\\site-packages\\tensorflow\\python\\ops\\math_grad.py:1250: add_dispatch_support.<locals>.wrapper (from tensorflow.python.ops.array_ops) is deprecated and will be removed in a future version.\n",
      "Instructions for updating:\n",
      "Use tf.where in 2.0, which has the same broadcast rule as np.where\n",
      "WARNING:tensorflow:From C:\\Users\\sinch\\Anaconda3\\envs\\tensorflow\\lib\\site-packages\\keras\\backend\\tensorflow_backend.py:422: The name tf.global_variables is deprecated. Please use tf.compat.v1.global_variables instead.\n",
      "\n",
      "Train on 44800 samples, validate on 11200 samples\n",
      "Epoch 1/100\n",
      "44800/44800 [==============================] - 219s 5ms/step - loss: 4.2594 - accuracy: 0.4159 - val_loss: 3.5345 - val_accuracy: 0.4184\n",
      "\n",
      "Epoch 00001: val_accuracy improved from -inf to 0.41835, saving model to french_eng_finalmodel\n",
      "Epoch 2/100\n",
      "44800/44800 [==============================] - 218s 5ms/step - loss: 3.3653 - accuracy: 0.4250 - val_loss: 3.2593 - val_accuracy: 0.4609\n",
      "\n",
      "Epoch 00002: val_accuracy improved from 0.41835 to 0.46089, saving model to french_eng_finalmodel\n",
      "Epoch 3/100\n",
      "44800/44800 [==============================] - 220s 5ms/step - loss: 3.1405 - accuracy: 0.5379 - val_loss: 3.0870 - val_accuracy: 0.5537\n",
      "\n",
      "Epoch 00003: val_accuracy improved from 0.46089 to 0.55372, saving model to french_eng_finalmodel\n",
      "Epoch 4/100\n",
      "44800/44800 [==============================] - 214s 5ms/step - loss: 3.0053 - accuracy: 0.5571 - val_loss: 2.9825 - val_accuracy: 0.5557\n",
      "\n",
      "Epoch 00004: val_accuracy improved from 0.55372 to 0.55572, saving model to french_eng_finalmodel\n",
      "Epoch 5/100\n",
      "44800/44800 [==============================] - 212s 5ms/step - loss: 2.9146 - accuracy: 0.5610 - val_loss: 2.9113 - val_accuracy: 0.5635\n",
      "\n",
      "Epoch 00005: val_accuracy improved from 0.55572 to 0.56351, saving model to french_eng_finalmodel\n",
      "Epoch 6/100\n",
      "44800/44800 [==============================] - 212s 5ms/step - loss: 2.8501 - accuracy: 0.5656 - val_loss: 2.8583 - val_accuracy: 0.5678\n",
      "\n",
      "Epoch 00006: val_accuracy improved from 0.56351 to 0.56782, saving model to french_eng_finalmodel\n",
      "Epoch 7/100\n",
      "44800/44800 [==============================] - 225s 5ms/step - loss: 2.8006 - accuracy: 0.5704 - val_loss: 2.8177 - val_accuracy: 0.5706\n",
      "\n",
      "Epoch 00007: val_accuracy improved from 0.56782 to 0.57056, saving model to french_eng_finalmodel\n",
      "Epoch 8/100\n",
      "44800/44800 [==============================] - 233s 5ms/step - loss: 2.7585 - accuracy: 0.5732 - val_loss: 2.7809 - val_accuracy: 0.5712\n",
      "\n",
      "Epoch 00008: val_accuracy improved from 0.57056 to 0.57120, saving model to french_eng_finalmodel\n",
      "Epoch 9/100\n",
      "44800/44800 [==============================] - 232s 5ms/step - loss: 2.7217 - accuracy: 0.5745 - val_loss: 2.7482 - val_accuracy: 0.5725\n",
      "\n",
      "Epoch 00009: val_accuracy improved from 0.57120 to 0.57251, saving model to french_eng_finalmodel\n",
      "Epoch 10/100\n",
      "44800/44800 [==============================] - 232s 5ms/step - loss: 2.6857 - accuracy: 0.5772 - val_loss: 2.7204 - val_accuracy: 0.5763\n",
      "\n",
      "Epoch 00010: val_accuracy improved from 0.57251 to 0.57633, saving model to french_eng_finalmodel\n",
      "Epoch 11/100\n",
      "44800/44800 [==============================] - 240s 5ms/step - loss: 2.6481 - accuracy: 0.5817 - val_loss: 2.6849 - val_accuracy: 0.5785\n",
      "\n",
      "Epoch 00011: val_accuracy improved from 0.57633 to 0.57854, saving model to french_eng_finalmodel\n",
      "Epoch 12/100\n",
      "44800/44800 [==============================] - 243s 5ms/step - loss: 2.6152 - accuracy: 0.5839 - val_loss: 2.6509 - val_accuracy: 0.5815\n",
      "\n",
      "Epoch 00012: val_accuracy improved from 0.57854 to 0.58147, saving model to french_eng_finalmodel\n",
      "Epoch 13/100\n",
      "44800/44800 [==============================] - 230s 5ms/step - loss: 2.5777 - accuracy: 0.5867 - val_loss: 2.6258 - val_accuracy: 0.5828\n",
      "\n",
      "Epoch 00013: val_accuracy improved from 0.58147 to 0.58278, saving model to french_eng_finalmodel\n",
      "Epoch 14/100\n",
      "44800/44800 [==============================] - 230s 5ms/step - loss: 2.5461 - accuracy: 0.5890 - val_loss: 2.5926 - val_accuracy: 0.5858\n",
      "\n",
      "Epoch 00014: val_accuracy improved from 0.58278 to 0.58576, saving model to french_eng_finalmodel\n",
      "Epoch 15/100\n",
      "44800/44800 [==============================] - 220s 5ms/step - loss: 2.5149 - accuracy: 0.5923 - val_loss: 2.5688 - val_accuracy: 0.5902\n",
      "\n",
      "Epoch 00015: val_accuracy improved from 0.58576 to 0.59016, saving model to french_eng_finalmodel\n",
      "Epoch 16/100\n",
      "44800/44800 [==============================] - 227s 5ms/step - loss: 2.4816 - accuracy: 0.5965 - val_loss: 2.5269 - val_accuracy: 0.5933\n",
      "\n",
      "Epoch 00016: val_accuracy improved from 0.59016 to 0.59331, saving model to french_eng_finalmodel\n",
      "Epoch 17/100\n",
      "44800/44800 [==============================] - 237s 5ms/step - loss: 2.4350 - accuracy: 0.6015 - val_loss: 2.4849 - val_accuracy: 0.5983\n",
      "\n",
      "Epoch 00017: val_accuracy improved from 0.59331 to 0.59832, saving model to french_eng_finalmodel\n",
      "Epoch 18/100\n",
      "44800/44800 [==============================] - 234s 5ms/step - loss: 2.3933 - accuracy: 0.6051 - val_loss: 2.4504 - val_accuracy: 0.6011\n",
      "\n",
      "Epoch 00018: val_accuracy improved from 0.59832 to 0.60113, saving model to french_eng_finalmodel\n",
      "Epoch 19/100\n",
      "44800/44800 [==============================] - 239s 5ms/step - loss: 2.3474 - accuracy: 0.6091 - val_loss: 2.4013 - val_accuracy: 0.6060\n",
      "\n",
      "Epoch 00019: val_accuracy improved from 0.60113 to 0.60601, saving model to french_eng_finalmodel\n",
      "Epoch 20/100\n",
      "44800/44800 [==============================] - 229s 5ms/step - loss: 2.2965 - accuracy: 0.6140 - val_loss: 2.3487 - val_accuracy: 0.6117\n",
      "\n",
      "Epoch 00020: val_accuracy improved from 0.60601 to 0.61169, saving model to french_eng_finalmodel\n",
      "Epoch 21/100\n",
      "44800/44800 [==============================] - 236s 5ms/step - loss: 2.2346 - accuracy: 0.6228 - val_loss: 2.2893 - val_accuracy: 0.6211\n",
      "\n",
      "Epoch 00021: val_accuracy improved from 0.61169 to 0.62113, saving model to french_eng_finalmodel\n",
      "Epoch 22/100\n",
      "44800/44800 [==============================] - 230s 5ms/step - loss: 2.1685 - accuracy: 0.6319 - val_loss: 2.2248 - val_accuracy: 0.6291\n",
      "\n",
      "Epoch 00022: val_accuracy improved from 0.62113 to 0.62910, saving model to french_eng_finalmodel\n",
      "Epoch 23/100\n",
      "44800/44800 [==============================] - 224s 5ms/step - loss: 2.0980 - accuracy: 0.6409 - val_loss: 2.1594 - val_accuracy: 0.6392\n",
      "\n",
      "Epoch 00023: val_accuracy improved from 0.62910 to 0.63919, saving model to french_eng_finalmodel\n",
      "Epoch 24/100\n",
      "44800/44800 [==============================] - 226s 5ms/step - loss: 2.0246 - accuracy: 0.6524 - val_loss: 2.0860 - val_accuracy: 0.6514\n",
      "\n",
      "Epoch 00024: val_accuracy improved from 0.63919 to 0.65145, saving model to french_eng_finalmodel\n",
      "Epoch 25/100\n",
      "44800/44800 [==============================] - 245s 5ms/step - loss: 1.9412 - accuracy: 0.6654 - val_loss: 2.0091 - val_accuracy: 0.6636\n",
      "\n",
      "Epoch 00025: val_accuracy improved from 0.65145 to 0.66364, saving model to french_eng_finalmodel\n",
      "Epoch 26/100\n",
      "44800/44800 [==============================] - 237s 5ms/step - loss: 1.8561 - accuracy: 0.6769 - val_loss: 1.9303 - val_accuracy: 0.6732\n",
      "\n",
      "Epoch 00026: val_accuracy improved from 0.66364 to 0.67323, saving model to french_eng_finalmodel\n",
      "Epoch 27/100\n",
      "44800/44800 [==============================] - 234s 5ms/step - loss: 1.7725 - accuracy: 0.6875 - val_loss: 1.8694 - val_accuracy: 0.6829\n",
      "\n",
      "Epoch 00027: val_accuracy improved from 0.67323 to 0.68290, saving model to french_eng_finalmodel\n",
      "Epoch 28/100\n",
      "44800/44800 [==============================] - 236s 5ms/step - loss: 1.6968 - accuracy: 0.6980 - val_loss: 1.8014 - val_accuracy: 0.6924\n",
      "\n",
      "Epoch 00028: val_accuracy improved from 0.68290 to 0.69239, saving model to french_eng_finalmodel\n",
      "Epoch 29/100\n",
      "44800/44800 [==============================] - 239s 5ms/step - loss: 1.6254 - accuracy: 0.7077 - val_loss: 1.7433 - val_accuracy: 0.7003\n",
      "\n",
      "Epoch 00029: val_accuracy improved from 0.69239 to 0.70031, saving model to french_eng_finalmodel\n",
      "Epoch 30/100\n",
      "44800/44800 [==============================] - 241s 5ms/step - loss: 1.5561 - accuracy: 0.7167 - val_loss: 1.6913 - val_accuracy: 0.7069\n",
      "\n",
      "Epoch 00030: val_accuracy improved from 0.70031 to 0.70690, saving model to french_eng_finalmodel\n",
      "Epoch 31/100\n",
      "44800/44800 [==============================] - 229s 5ms/step - loss: 1.4918 - accuracy: 0.7257 - val_loss: 1.6386 - val_accuracy: 0.7137\n",
      "\n",
      "Epoch 00031: val_accuracy improved from 0.70690 to 0.71372, saving model to french_eng_finalmodel\n",
      "Epoch 32/100\n",
      "44800/44800 [==============================] - 228s 5ms/step - loss: 1.4288 - accuracy: 0.7339 - val_loss: 1.5940 - val_accuracy: 0.7204\n",
      "\n",
      "Epoch 00032: val_accuracy improved from 0.71372 to 0.72038, saving model to french_eng_finalmodel\n",
      "Epoch 33/100\n",
      "44800/44800 [==============================] - 240s 5ms/step - loss: 1.3682 - accuracy: 0.7427 - val_loss: 1.5488 - val_accuracy: 0.7267\n",
      "\n",
      "Epoch 00033: val_accuracy improved from 0.72038 to 0.72675, saving model to french_eng_finalmodel\n",
      "Epoch 34/100\n",
      "44800/44800 [==============================] - 223s 5ms/step - loss: 1.3098 - accuracy: 0.7516 - val_loss: 1.5073 - val_accuracy: 0.7321\n",
      "\n",
      "Epoch 00034: val_accuracy improved from 0.72675 to 0.73210, saving model to french_eng_finalmodel\n",
      "Epoch 35/100\n",
      "44800/44800 [==============================] - 223s 5ms/step - loss: 1.2528 - accuracy: 0.7601 - val_loss: 1.4646 - val_accuracy: 0.7389\n",
      "\n",
      "Epoch 00035: val_accuracy improved from 0.73210 to 0.73894, saving model to french_eng_finalmodel\n",
      "Epoch 36/100\n",
      "44800/44800 [==============================] - 218s 5ms/step - loss: 1.1985 - accuracy: 0.7679 - val_loss: 1.4273 - val_accuracy: 0.7464\n",
      "\n",
      "Epoch 00036: val_accuracy improved from 0.73894 to 0.74639, saving model to french_eng_finalmodel\n",
      "Epoch 37/100\n",
      "44800/44800 [==============================] - 213s 5ms/step - loss: 1.1438 - accuracy: 0.7767 - val_loss: 1.3908 - val_accuracy: 0.7501\n",
      "\n",
      "Epoch 00037: val_accuracy improved from 0.74639 to 0.75011, saving model to french_eng_finalmodel\n",
      "Epoch 38/100\n",
      "44800/44800 [==============================] - 219s 5ms/step - loss: 1.0924 - accuracy: 0.7844 - val_loss: 1.3586 - val_accuracy: 0.7560\n",
      "\n",
      "Epoch 00038: val_accuracy improved from 0.75011 to 0.75601, saving model to french_eng_finalmodel\n",
      "Epoch 39/100\n",
      "44800/44800 [==============================] - 216s 5ms/step - loss: 1.0427 - accuracy: 0.7922 - val_loss: 1.3199 - val_accuracy: 0.7626\n",
      "\n",
      "Epoch 00039: val_accuracy improved from 0.75601 to 0.76259, saving model to french_eng_finalmodel\n",
      "Epoch 40/100\n",
      "44800/44800 [==============================] - 220s 5ms/step - loss: 0.9939 - accuracy: 0.8004 - val_loss: 1.2885 - val_accuracy: 0.7681\n",
      "\n",
      "Epoch 00040: val_accuracy improved from 0.76259 to 0.76806, saving model to french_eng_finalmodel\n",
      "Epoch 41/100\n",
      "44800/44800 [==============================] - 221s 5ms/step - loss: 0.9471 - accuracy: 0.8079 - val_loss: 1.2597 - val_accuracy: 0.7736\n",
      "\n",
      "Epoch 00041: val_accuracy improved from 0.76806 to 0.77358, saving model to french_eng_finalmodel\n",
      "Epoch 42/100\n",
      "44800/44800 [==============================] - 212s 5ms/step - loss: 0.9011 - accuracy: 0.8162 - val_loss: 1.2294 - val_accuracy: 0.7784\n",
      "\n",
      "Epoch 00042: val_accuracy improved from 0.77358 to 0.77844, saving model to french_eng_finalmodel\n",
      "Epoch 43/100\n",
      "44800/44800 [==============================] - 232s 5ms/step - loss: 0.8569 - accuracy: 0.8240 - val_loss: 1.2029 - val_accuracy: 0.7825\n",
      "\n",
      "Epoch 00043: val_accuracy improved from 0.77844 to 0.78249, saving model to french_eng_finalmodel\n",
      "Epoch 44/100\n",
      "44800/44800 [==============================] - 234s 5ms/step - loss: 0.8150 - accuracy: 0.8317 - val_loss: 1.1821 - val_accuracy: 0.7880\n",
      "\n",
      "Epoch 00044: val_accuracy improved from 0.78249 to 0.78802, saving model to french_eng_finalmodel\n",
      "Epoch 45/100\n",
      "44800/44800 [==============================] - 233s 5ms/step - loss: 0.7753 - accuracy: 0.8385 - val_loss: 1.1527 - val_accuracy: 0.7920\n",
      "\n",
      "Epoch 00045: val_accuracy improved from 0.78802 to 0.79202, saving model to french_eng_finalmodel\n",
      "Epoch 46/100\n",
      "44800/44800 [==============================] - 237s 5ms/step - loss: 0.7356 - accuracy: 0.8463 - val_loss: 1.1316 - val_accuracy: 0.7962\n",
      "\n",
      "Epoch 00046: val_accuracy improved from 0.79202 to 0.79624, saving model to french_eng_finalmodel\n",
      "Epoch 47/100\n",
      "44800/44800 [==============================] - 236s 5ms/step - loss: 0.6989 - accuracy: 0.8528 - val_loss: 1.1110 - val_accuracy: 0.8005\n",
      "\n",
      "Epoch 00047: val_accuracy improved from 0.79624 to 0.80048, saving model to french_eng_finalmodel\n",
      "Epoch 48/100\n",
      "44800/44800 [==============================] - 231s 5ms/step - loss: 0.6632 - accuracy: 0.8595 - val_loss: 1.0900 - val_accuracy: 0.8049\n",
      "\n",
      "Epoch 00048: val_accuracy improved from 0.80048 to 0.80488, saving model to french_eng_finalmodel\n",
      "Epoch 49/100\n",
      "44800/44800 [==============================] - 234s 5ms/step - loss: 0.6298 - accuracy: 0.8659 - val_loss: 1.0685 - val_accuracy: 0.8077\n",
      "\n",
      "Epoch 00049: val_accuracy improved from 0.80488 to 0.80771, saving model to french_eng_finalmodel\n",
      "Epoch 50/100\n",
      "44800/44800 [==============================] - 235s 5ms/step - loss: 0.5973 - accuracy: 0.8729 - val_loss: 1.0514 - val_accuracy: 0.8116\n",
      "\n",
      "Epoch 00050: val_accuracy improved from 0.80771 to 0.81164, saving model to french_eng_finalmodel\n",
      "Epoch 51/100\n",
      "44800/44800 [==============================] - 239s 5ms/step - loss: 0.5668 - accuracy: 0.8786 - val_loss: 1.0372 - val_accuracy: 0.8144\n",
      "\n",
      "Epoch 00051: val_accuracy improved from 0.81164 to 0.81437, saving model to french_eng_finalmodel\n",
      "Epoch 52/100\n",
      "44800/44800 [==============================] - 214s 5ms/step - loss: 0.5384 - accuracy: 0.8842 - val_loss: 1.0210 - val_accuracy: 0.8179\n",
      "\n",
      "Epoch 00052: val_accuracy improved from 0.81437 to 0.81794, saving model to french_eng_finalmodel\n",
      "Epoch 53/100\n",
      "44800/44800 [==============================] - 232s 5ms/step - loss: 0.5097 - accuracy: 0.8899 - val_loss: 1.0081 - val_accuracy: 0.8207\n",
      "\n",
      "Epoch 00053: val_accuracy improved from 0.81794 to 0.82069, saving model to french_eng_finalmodel\n",
      "Epoch 54/100\n",
      "44800/44800 [==============================] - 247s 6ms/step - loss: 0.4841 - accuracy: 0.8954 - val_loss: 0.9955 - val_accuracy: 0.8240\n",
      "\n",
      "Epoch 00054: val_accuracy improved from 0.82069 to 0.82398, saving model to french_eng_finalmodel\n",
      "Epoch 55/100\n",
      "44800/44800 [==============================] - 252s 6ms/step - loss: 0.4600 - accuracy: 0.9008 - val_loss: 0.9857 - val_accuracy: 0.8258\n",
      "\n",
      "Epoch 00055: val_accuracy improved from 0.82398 to 0.82584, saving model to french_eng_finalmodel\n",
      "Epoch 56/100\n",
      "44800/44800 [==============================] - 243s 5ms/step - loss: 0.4383 - accuracy: 0.9052 - val_loss: 0.9749 - val_accuracy: 0.8276\n",
      "\n",
      "Epoch 00056: val_accuracy improved from 0.82584 to 0.82758, saving model to french_eng_finalmodel\n",
      "Epoch 57/100\n",
      "44800/44800 [==============================] - 243s 5ms/step - loss: 0.4151 - accuracy: 0.9097 - val_loss: 0.9674 - val_accuracy: 0.8298\n",
      "\n",
      "Epoch 00057: val_accuracy improved from 0.82758 to 0.82978, saving model to french_eng_finalmodel\n",
      "Epoch 58/100\n",
      "44800/44800 [==============================] - 232s 5ms/step - loss: 0.3951 - accuracy: 0.9145 - val_loss: 0.9601 - val_accuracy: 0.8324\n",
      "\n",
      "Epoch 00058: val_accuracy improved from 0.82978 to 0.83235, saving model to french_eng_finalmodel\n",
      "Epoch 59/100\n",
      "44800/44800 [==============================] - 236s 5ms/step - loss: 0.3766 - accuracy: 0.9181 - val_loss: 0.9516 - val_accuracy: 0.8333\n",
      "\n",
      "Epoch 00059: val_accuracy improved from 0.83235 to 0.83332, saving model to french_eng_finalmodel\n",
      "Epoch 60/100\n",
      "44800/44800 [==============================] - 222s 5ms/step - loss: 0.3575 - accuracy: 0.9228 - val_loss: 0.9451 - val_accuracy: 0.8351\n",
      "\n",
      "Epoch 00060: val_accuracy improved from 0.83332 to 0.83508, saving model to french_eng_finalmodel\n",
      "Epoch 61/100\n",
      "44800/44800 [==============================] - 223s 5ms/step - loss: 0.3406 - accuracy: 0.9265 - val_loss: 0.9364 - val_accuracy: 0.8364\n",
      "\n",
      "Epoch 00061: val_accuracy improved from 0.83508 to 0.83639, saving model to french_eng_finalmodel\n",
      "Epoch 62/100\n",
      "44800/44800 [==============================] - 213s 5ms/step - loss: 0.3253 - accuracy: 0.9293 - val_loss: 0.9304 - val_accuracy: 0.8380\n",
      "\n",
      "Epoch 00062: val_accuracy improved from 0.83639 to 0.83803, saving model to french_eng_finalmodel\n",
      "Epoch 63/100\n",
      "44800/44800 [==============================] - 212s 5ms/step - loss: 0.3101 - accuracy: 0.9327 - val_loss: 0.9268 - val_accuracy: 0.8392\n",
      "\n",
      "Epoch 00063: val_accuracy improved from 0.83803 to 0.83923, saving model to french_eng_finalmodel\n",
      "Epoch 64/100\n",
      "44800/44800 [==============================] - 222s 5ms/step - loss: 0.2960 - accuracy: 0.9357 - val_loss: 0.9240 - val_accuracy: 0.8402\n",
      "\n",
      "Epoch 00064: val_accuracy improved from 0.83923 to 0.84016, saving model to french_eng_finalmodel\n",
      "Epoch 65/100\n",
      "44800/44800 [==============================] - 223s 5ms/step - loss: 0.2824 - accuracy: 0.9389 - val_loss: 0.9215 - val_accuracy: 0.8412\n",
      "\n",
      "Epoch 00065: val_accuracy improved from 0.84016 to 0.84118, saving model to french_eng_finalmodel\n",
      "Epoch 66/100\n",
      "44800/44800 [==============================] - 228s 5ms/step - loss: 0.2697 - accuracy: 0.9410 - val_loss: 0.9148 - val_accuracy: 0.8427\n",
      "\n",
      "Epoch 00066: val_accuracy improved from 0.84118 to 0.84272, saving model to french_eng_finalmodel\n",
      "Epoch 67/100\n",
      "44800/44800 [==============================] - 227s 5ms/step - loss: 0.2581 - accuracy: 0.9436 - val_loss: 0.9169 - val_accuracy: 0.8437\n",
      "\n",
      "Epoch 00067: val_accuracy improved from 0.84272 to 0.84369, saving model to french_eng_finalmodel\n",
      "Epoch 68/100\n",
      "44800/44800 [==============================] - 231s 5ms/step - loss: 0.2472 - accuracy: 0.9461 - val_loss: 0.9119 - val_accuracy: 0.8457\n",
      "\n",
      "Epoch 00068: val_accuracy improved from 0.84369 to 0.84573, saving model to french_eng_finalmodel\n",
      "Epoch 69/100\n",
      "44800/44800 [==============================] - 231s 5ms/step - loss: 0.2369 - accuracy: 0.9479 - val_loss: 0.9096 - val_accuracy: 0.8449\n",
      "\n",
      "Epoch 00069: val_accuracy did not improve from 0.84573\n",
      "Epoch 70/100\n",
      "44800/44800 [==============================] - 218s 5ms/step - loss: 0.2273 - accuracy: 0.9499 - val_loss: 0.9043 - val_accuracy: 0.8464\n",
      "\n",
      "Epoch 00070: val_accuracy improved from 0.84573 to 0.84638, saving model to french_eng_finalmodel\n",
      "Epoch 71/100\n",
      "44800/44800 [==============================] - 209s 5ms/step - loss: 0.2179 - accuracy: 0.9518 - val_loss: 0.9073 - val_accuracy: 0.8466\n",
      "\n",
      "Epoch 00071: val_accuracy improved from 0.84638 to 0.84659, saving model to french_eng_finalmodel\n",
      "Epoch 72/100\n",
      "44800/44800 [==============================] - 214s 5ms/step - loss: 0.2096 - accuracy: 0.9535 - val_loss: 0.9052 - val_accuracy: 0.8466\n",
      "\n",
      "Epoch 00072: val_accuracy improved from 0.84659 to 0.84662, saving model to french_eng_finalmodel\n",
      "Epoch 73/100\n",
      "44800/44800 [==============================] - 216s 5ms/step - loss: 0.2014 - accuracy: 0.9551 - val_loss: 0.9030 - val_accuracy: 0.8484\n",
      "\n",
      "Epoch 00073: val_accuracy improved from 0.84662 to 0.84836, saving model to french_eng_finalmodel\n",
      "Epoch 74/100\n",
      "44800/44800 [==============================] - 217s 5ms/step - loss: 0.1934 - accuracy: 0.9565 - val_loss: 0.9032 - val_accuracy: 0.8493\n",
      "\n",
      "Epoch 00074: val_accuracy improved from 0.84836 to 0.84929, saving model to french_eng_finalmodel\n",
      "Epoch 75/100\n",
      "44800/44800 [==============================] - 217s 5ms/step - loss: 0.1852 - accuracy: 0.9582 - val_loss: 0.9049 - val_accuracy: 0.8482\n",
      "\n",
      "Epoch 00075: val_accuracy did not improve from 0.84929\n",
      "Epoch 76/100\n",
      "44800/44800 [==============================] - 215s 5ms/step - loss: 0.1783 - accuracy: 0.9599 - val_loss: 0.9052 - val_accuracy: 0.8487\n",
      "\n",
      "Epoch 00076: val_accuracy did not improve from 0.84929\n",
      "Epoch 77/100\n",
      "44800/44800 [==============================] - 213s 5ms/step - loss: 0.1723 - accuracy: 0.9610 - val_loss: 0.9019 - val_accuracy: 0.8499\n",
      "\n",
      "Epoch 00077: val_accuracy improved from 0.84929 to 0.84988, saving model to french_eng_finalmodel\n",
      "Epoch 78/100\n",
      "44800/44800 [==============================] - 213s 5ms/step - loss: 0.1658 - accuracy: 0.9623 - val_loss: 0.8992 - val_accuracy: 0.8503\n",
      "\n",
      "Epoch 00078: val_accuracy improved from 0.84988 to 0.85028, saving model to french_eng_finalmodel\n",
      "Epoch 79/100\n",
      "44800/44800 [==============================] - 217s 5ms/step - loss: 0.1590 - accuracy: 0.9636 - val_loss: 0.9069 - val_accuracy: 0.8500\n",
      "\n",
      "Epoch 00079: val_accuracy did not improve from 0.85028\n",
      "Epoch 80/100\n",
      "44800/44800 [==============================] - 208s 5ms/step - loss: 0.1546 - accuracy: 0.9646 - val_loss: 0.9040 - val_accuracy: 0.8498\n",
      "\n",
      "Epoch 00080: val_accuracy did not improve from 0.85028\n",
      "Epoch 81/100\n",
      "44800/44800 [==============================] - 209s 5ms/step - loss: 0.1481 - accuracy: 0.9659 - val_loss: 0.9072 - val_accuracy: 0.8501\n",
      "\n",
      "Epoch 00081: val_accuracy did not improve from 0.85028\n",
      "Epoch 82/100\n",
      "44800/44800 [==============================] - 210s 5ms/step - loss: 0.1433 - accuracy: 0.9672 - val_loss: 0.9065 - val_accuracy: 0.8515\n",
      "\n",
      "Epoch 00082: val_accuracy improved from 0.85028 to 0.85151, saving model to french_eng_finalmodel\n",
      "Epoch 83/100\n",
      "44800/44800 [==============================] - 215s 5ms/step - loss: 0.1385 - accuracy: 0.9676 - val_loss: 0.9074 - val_accuracy: 0.8517\n",
      "\n",
      "Epoch 00083: val_accuracy improved from 0.85151 to 0.85166, saving model to french_eng_finalmodel\n",
      "Epoch 84/100\n",
      "44800/44800 [==============================] - 210s 5ms/step - loss: 0.1331 - accuracy: 0.9693 - val_loss: 0.9055 - val_accuracy: 0.8522\n",
      "\n",
      "Epoch 00084: val_accuracy improved from 0.85166 to 0.85217, saving model to french_eng_finalmodel\n",
      "Epoch 85/100\n",
      "44800/44800 [==============================] - 213s 5ms/step - loss: 0.1290 - accuracy: 0.9699 - val_loss: 0.9076 - val_accuracy: 0.8522\n",
      "\n",
      "Epoch 00085: val_accuracy improved from 0.85217 to 0.85219, saving model to french_eng_finalmodel\n",
      "Epoch 86/100\n",
      "44800/44800 [==============================] - 211s 5ms/step - loss: 0.1256 - accuracy: 0.9706 - val_loss: 0.9110 - val_accuracy: 0.8520\n",
      "\n",
      "Epoch 00086: val_accuracy did not improve from 0.85219\n",
      "Epoch 87/100\n",
      "44800/44800 [==============================] - 209s 5ms/step - loss: 0.1215 - accuracy: 0.9716 - val_loss: 0.9115 - val_accuracy: 0.8523\n",
      "\n",
      "Epoch 00087: val_accuracy improved from 0.85219 to 0.85230, saving model to french_eng_finalmodel\n",
      "Epoch 88/100\n",
      "44800/44800 [==============================] - 225s 5ms/step - loss: 0.1170 - accuracy: 0.9727 - val_loss: 0.9124 - val_accuracy: 0.8521\n",
      "\n",
      "Epoch 00088: val_accuracy did not improve from 0.85230\n",
      "Epoch 89/100\n",
      "44800/44800 [==============================] - 217s 5ms/step - loss: 0.1133 - accuracy: 0.9732 - val_loss: 0.9114 - val_accuracy: 0.8526\n",
      "\n",
      "Epoch 00089: val_accuracy improved from 0.85230 to 0.85265, saving model to french_eng_finalmodel\n",
      "Epoch 90/100\n",
      "44800/44800 [==============================] - 215s 5ms/step - loss: 0.1095 - accuracy: 0.9740 - val_loss: 0.9161 - val_accuracy: 0.8528\n",
      "\n",
      "Epoch 00090: val_accuracy improved from 0.85265 to 0.85279, saving model to french_eng_finalmodel\n",
      "Epoch 91/100\n",
      "44800/44800 [==============================] - 217s 5ms/step - loss: 0.1067 - accuracy: 0.9747 - val_loss: 0.9180 - val_accuracy: 0.8529\n",
      "\n",
      "Epoch 00091: val_accuracy improved from 0.85279 to 0.85294, saving model to french_eng_finalmodel\n",
      "Epoch 92/100\n",
      "44800/44800 [==============================] - 213s 5ms/step - loss: 0.1034 - accuracy: 0.9753 - val_loss: 0.9191 - val_accuracy: 0.8531\n",
      "\n",
      "Epoch 00092: val_accuracy improved from 0.85294 to 0.85311, saving model to french_eng_finalmodel\n",
      "Epoch 93/100\n",
      "44800/44800 [==============================] - 208s 5ms/step - loss: 0.1001 - accuracy: 0.9762 - val_loss: 0.9197 - val_accuracy: 0.8534\n",
      "\n",
      "Epoch 00093: val_accuracy improved from 0.85311 to 0.85340, saving model to french_eng_finalmodel\n",
      "Epoch 94/100\n",
      "44800/44800 [==============================] - 212s 5ms/step - loss: 0.0970 - accuracy: 0.9767 - val_loss: 0.9263 - val_accuracy: 0.8531\n",
      "\n",
      "Epoch 00094: val_accuracy did not improve from 0.85340\n",
      "Epoch 95/100\n",
      "44800/44800 [==============================] - 209s 5ms/step - loss: 0.0939 - accuracy: 0.9775 - val_loss: 0.9241 - val_accuracy: 0.8536\n",
      "\n",
      "Epoch 00095: val_accuracy improved from 0.85340 to 0.85362, saving model to french_eng_finalmodel\n",
      "Epoch 96/100\n",
      "44800/44800 [==============================] - 215s 5ms/step - loss: 0.0906 - accuracy: 0.9783 - val_loss: 0.9282 - val_accuracy: 0.8529\n",
      "\n",
      "Epoch 00096: val_accuracy did not improve from 0.85362\n",
      "Epoch 97/100\n",
      "44800/44800 [==============================] - 212s 5ms/step - loss: 0.0889 - accuracy: 0.9785 - val_loss: 0.9299 - val_accuracy: 0.8537\n",
      "\n",
      "Epoch 00097: val_accuracy improved from 0.85362 to 0.85369, saving model to french_eng_finalmodel\n",
      "Epoch 98/100\n",
      "44800/44800 [==============================] - 214s 5ms/step - loss: 0.0866 - accuracy: 0.9790 - val_loss: 0.9316 - val_accuracy: 0.8534\n",
      "\n",
      "Epoch 00098: val_accuracy did not improve from 0.85369\n",
      "Epoch 99/100\n",
      "44800/44800 [==============================] - 210s 5ms/step - loss: 0.0834 - accuracy: 0.9798 - val_loss: 0.9344 - val_accuracy: 0.8534\n",
      "\n",
      "Epoch 00099: val_accuracy did not improve from 0.85369\n",
      "Epoch 100/100\n",
      "44800/44800 [==============================] - 211s 5ms/step - loss: 0.0815 - accuracy: 0.9802 - val_loss: 0.9350 - val_accuracy: 0.8533\n",
      "\n",
      "Epoch 00100: val_accuracy did not improve from 0.85369\n"
     ]
    }
   ],
   "source": [
    "# train the model\n",
    "z = np.zeros((encoder_inputs.shape[0], LATENT_DIM_DECODER)) # initial [s, c]\n",
    "r = model.fit(\n",
    "  [encoder_inputs, decoder_inputs, z, z], decoder_targets_one_hot,\n",
    "  batch_size=BATCH_SIZE,\n",
    "  epochs=EPOCHS,\n",
    "  validation_split=0.2,\n",
    "    callbacks=callbacks_list\n",
    ")\n"
   ]
  },
  {
   "cell_type": "code",
   "execution_count": 31,
   "metadata": {},
   "outputs": [
    {
     "data": {
      "image/png": "[encoded data removed]",
      "text/plain": [
       "<Figure size 432x288 with 1 Axes>"
      ]
     },
     "metadata": {
      "needs_background": "light"
     },
     "output_type": "display_data"
    }
   ],
   "source": [
    "# plot some data\n",
    "plt.plot(r.history['loss'], label='loss')\n",
    "plt.plot(r.history['val_loss'], label='val_loss')\n",
    "plt.legend()\n",
    "plt.show()\n",
    "\n"
   ]
  },
  {
   "cell_type": "code",
   "execution_count": 32,
   "metadata": {},
   "outputs": [
    {
     "data": {
      "image/png": "[encoded data removed]",
      "text/plain": [
       "<Figure size 432x288 with 1 Axes>"
      ]
     },
     "metadata": {
      "needs_background": "light"
     },
     "output_type": "display_data"
    }
   ],
   "source": [
    "# accuracies\n",
    "plt.plot(r.history['accuracy'], label='acc')\n",
    "plt.plot(r.history['val_accuracy'], label='val_acc')\n",
    "plt.legend()\n",
    "plt.show()\n"
   ]
  },
  {
   "cell_type": "markdown",
   "metadata": {},
   "source": [
    "### Modifying the model for Predictions\n",
    "While training, we know the actual inputs to the decoder for all the output words in the sequence. However, during predictions the next word will be predicted on the basis of the previous word, which in turn is also predicted in the previous time-step. \n",
    "\n",
    "While making actual predictions, the full output sequence is not available, in fact that is what we have to predict. During prediction the only start and end token is avaialbale to us. We will use this to predict the output sentences. "
   ]
  },
  {
   "cell_type": "code",
   "execution_count": 33,
   "metadata": {},
   "outputs": [],
   "source": [
    "encoder_model = Model(encoder_inputs_placeholder, encoder_outputs)\n",
    "\n",
    "# next we define a T=1 decoder model\n",
    "encoder_outputs_as_input = Input(shape=(max_len_input, LATENT_DIM * 2,))\n",
    "decoder_inputs_single = Input(shape=(1,))\n",
    "decoder_inputs_single_x = decoder_embedding(decoder_inputs_single)\n",
    "\n",
    "# no need to loop over attention steps this time because there is only one step\n",
    "context = one_step_attention(encoder_outputs_as_input, initial_s)\n",
    "\n",
    "# combine context with last word\n",
    "decoder_lstm_input = context_last_word_concat_layer([context, decoder_inputs_single_x])\n",
    "\n",
    "# lstm and final dense\n",
    "o, s, c = decoder_lstm(decoder_lstm_input, initial_state=[initial_s, initial_c])\n",
    "decoder_outputs = decoder_dense(o)"
   ]
  },
  {
   "cell_type": "code",
   "execution_count": 34,
   "metadata": {},
   "outputs": [],
   "source": [
    "# create the model object\n",
    "decoder_model = Model(\n",
    "  inputs=[\n",
    "    decoder_inputs_single,\n",
    "    encoder_outputs_as_input,\n",
    "    initial_s, \n",
    "    initial_c\n",
    "  ],\n",
    "  outputs=[decoder_outputs, s, c]\n",
    ")\n"
   ]
  },
  {
   "cell_type": "code",
   "execution_count": 45,
   "metadata": {},
   "outputs": [],
   "source": [
    "decoder_model.save(\"enfr_decoder_model.h5\")\n",
    "encoder_model.save(\"enfr_encoder_model.h5\")"
   ]
  },
  {
   "cell_type": "markdown",
   "metadata": {},
   "source": [
    "### Making Predictions\n",
    "\n",
    "In the tokenization steps, we converted words to integers. The outputs from the decoder will also be integers. However, we want our output to be a sequence of words in the French language. To do so, we need to convert the integers back to words. We will create new dictionaries for both inputs and outputs where the keys will be the integers and the corresponding values will be the words."
   ]
  },
  {
   "cell_type": "code",
   "execution_count": 47,
   "metadata": {},
   "outputs": [],
   "source": [
    "idx2word_eng = {v:k for k, v in word2idx_inputs.items()}\n",
    "idx2word_trans = {v:k for k, v in word2idx_outputs.items()}"
   ]
  },
  {
   "cell_type": "code",
   "execution_count": 46,
   "metadata": {},
   "outputs": [],
   "source": [
    "import pickle\n",
    "pickle.dump( idx2word_eng, open( \"idx2word_eng1.pkl\", \"wb\" ) )\n",
    "pickle.dump(idx2word_trans,open(\"idx2word_fr.pkl\",\"wb\"))\n",
    "pickle.dump(tokenizer_inputs,open(\"tokenizer_inputs.pkl\",\"wb\"))"
   ]
  },
  {
   "cell_type": "markdown",
   "metadata": {},
   "source": [
    "The decode_sequence() method will accept an input-padded sequence french sentence (in the integer form) and will return the translated english sentence. "
   ]
  },
  {
   "cell_type": "code",
   "execution_count": 48,
   "metadata": {},
   "outputs": [],
   "source": [
    "def decode_sequence(input_seq):\n",
    "  # Encode the input as state vectors.\n",
    "  enc_out = encoder_model.predict(input_seq)\n",
    "\n",
    "  # Generate empty target sequence of length 1.\n",
    "  target_seq = np.zeros((1, 1))\n",
    "  \n",
    "  # Populate the first character of target sequence with the start character.\n",
    "  # NOTE: tokenizer lower-cases all words\n",
    "  target_seq[0, 0] = word2idx_outputs['<sos>']\n",
    "\n",
    "  # if we get this we break\n",
    "  eos = word2idx_outputs['<eos>']\n",
    "\n",
    "\n",
    "  # [s, c] will be updated in each loop iteration\n",
    "  s = np.zeros((1, LATENT_DIM_DECODER))\n",
    "  c = np.zeros((1, LATENT_DIM_DECODER))\n",
    "\n",
    "\n",
    "  # Create the translation\n",
    "  output_sentence = []\n",
    "  for _ in range(max_len_target):\n",
    "    o, s, c = decoder_model.predict([target_seq, enc_out, s, c])\n",
    "        \n",
    "\n",
    "    # Get next word\n",
    "    idx = np.argmax(o.flatten())\n",
    "\n",
    "    # End sentence of EOS\n",
    "    if eos == idx:\n",
    "      break\n",
    "\n",
    "    word = ''\n",
    "    if idx > 0:\n",
    "      word = idx2word_trans[idx]\n",
    "      output_sentence.append(word)\n",
    "\n",
    "    # Update the decoder input\n",
    "    # which is just the word just generated\n",
    "    target_seq[0, 0] = idx\n",
    "\n",
    "  return ' '.join(output_sentence)"
   ]
  },
  {
   "cell_type": "markdown",
   "metadata": {},
   "source": [
    "### Testing the model\n",
    "To test the model, we use the french sentences from the test set, retrieve the corresponding padded sequence for the sentence, and will pass it to the decode_sequence() method. The method will return the translated sentence as shown below."
   ]
  },
  {
   "cell_type": "code",
   "execution_count": 39,
   "metadata": {},
   "outputs": [],
   "source": [
    "test_actual_sentence=[]\n",
    "test_predicted_sentence=[]\n",
    "for i in range(len(fr_test)):\n",
    "    # Do some test translations\n",
    "  \n",
    "  input_seq = encoder_inputs_test[i:i+1]\n",
    "  translation = decode_sequence(input_seq)\n",
    "\n",
    "  test_actual_sentence.append(target_texts_test[i])\n",
    "  test_predicted_sentence.append(translation)"
   ]
  },
  {
   "cell_type": "code",
   "execution_count": 40,
   "metadata": {},
   "outputs": [
    {
     "name": "stdout",
     "output_type": "stream",
     "text": [
      "-\n",
      "Input sentence: soyez polis avec vos parents\n",
      "Predicted translation: be polite to your parents\n",
      "Actual translation: be polite to your parents <eos>\n",
      "-\n",
      "Input sentence: ma vie pour une bière\n",
      "Predicted translation: my life is like to beer\n",
      "Actual translation: im dying for a beer <eos>\n",
      "-\n",
      "Input sentence: je suis heureuse que vous veniez\n",
      "Predicted translation: im glad youre coming\n",
      "Actual translation: im glad youre coming <eos>\n",
      "-\n",
      "Input sentence: sa voiture a deux ans\n",
      "Predicted translation: his car is two years old\n",
      "Actual translation: his car is two years old <eos>\n",
      "-\n",
      "Input sentence: désolée je ne vous ai pas entendus\n",
      "Predicted translation: sorry i didnt hear you\n",
      "Actual translation: sorry i didnt hear you <eos>\n"
     ]
    }
   ],
   "source": [
    "for i in np.random.randint(0,14000,5):\n",
    "    print('-')\n",
    "    print('Input sentence:', input_texts_test[i])\n",
    "    print('Predicted translation:', test_predicted_sentence[i])\n",
    "    print('Actual translation:', target_texts_test[i])"
   ]
  },
  {
   "cell_type": "markdown",
   "metadata": {},
   "source": [
    "### Evaluation metric: BLEU Score\n",
    "\n",
    "BLEU, or the Bilingual Evaluation Understudy, is a score for comparing a candidate translation of text to one or more reference translations. NLTK also provides a function called corpus_bleu() for calculating the BLEU score for multiple sentences such as a paragraph or a document.\n",
    "\n",
    "The references must be specified as a list of sentences where each sentence is a list of references and each alternative reference is a list of tokens, e.g. a list of lists of lists of tokens. The candidate sentences must be specified as a list where each sentence is a list of tokens\n",
    "\n",
    "Here we will be passing predicted translations as list of candidate sentences and actual sentences as list of reference sentences.\n"
   ]
  },
  {
   "cell_type": "code",
   "execution_count": 41,
   "metadata": {},
   "outputs": [],
   "source": [
    "import nltk\n",
    "pred=[]\n",
    "for words in test_predicted_sentence:\n",
    "    pred.append(words.split())"
   ]
  },
  {
   "cell_type": "code",
   "execution_count": 42,
   "metadata": {},
   "outputs": [],
   "source": [
    "actual=[]\n",
    "for words in test_actual_sentence:\n",
    "    actual.append(words.split())"
   ]
  },
  {
   "cell_type": "code",
   "execution_count": 43,
   "metadata": {},
   "outputs": [
    {
     "name": "stdout",
     "output_type": "stream",
     "text": [
      "0.2860901377075264\n"
     ]
    }
   ],
   "source": [
    "from nltk.translate.bleu_score import SmoothingFunction\n",
    "chencherry = SmoothingFunction()\n",
    "BLEUscore = nltk.translate.bleu_score.corpus_bleu(actual,pred,smoothing_function=chencherry.method4)\n",
    "print(BLEUscore)"
   ]
  },
  {
   "cell_type": "code",
   "execution_count": 44,
   "metadata": {},
   "outputs": [
    {
     "name": "stderr",
     "output_type": "stream",
     "text": [
      "WARNING:root:Could not import signal.SIGPIPE (this is expected on Windows machines)\n"
     ]
    },
    {
     "name": "stdout",
     "output_type": "stream",
     "text": [
      "BLEU = 37.88 68.3/51.5/41.6/35.5 (BP = 0.794 ratio = 0.812 hyp_len = 59438 ref_len = 73164)\n"
     ]
    }
   ],
   "source": [
    "import sacrebleu\n",
    "x=sacrebleu.raw_corpus_bleu(test_predicted_sentence,[test_actual_sentence])\n",
    "print(x)"
   ]
  },
  {
   "cell_type": "code",
   "execution_count": null,
   "metadata": {},
   "outputs": [],
   "source": []
  }
 ],
 "metadata": {
  "kernelspec": {
   "display_name": "Python 3",
   "language": "python",
   "name": "python3"
  },
  "language_info": {
   "codemirror_mode": {
    "name": "ipython",
    "version": 3
   },
   "file_extension": ".py",
   "mimetype": "text/x-python",
   "name": "python",
   "nbconvert_exporter": "python",
   "pygments_lexer": "ipython3",
   "version": "3.6.9"
  }
 },
 "nbformat": 4,
 "nbformat_minor": 2
}
