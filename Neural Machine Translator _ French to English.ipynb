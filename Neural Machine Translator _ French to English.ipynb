{
 "cells": [
  {
   "cell_type": "markdown",
   "metadata": {},
   "source": [
    "## Neural Machine Translation\n",
    "\n",
    "## Introduction\n",
    "In this notebook, we will build a deep neural network that functions as part of an end-to-end machine translation pipeline. The completed pipeline will accept french text as input and return the english translation.\n",
    "\n",
    "__Proposed Approach__\n",
    "\n",
    "- Preprocessing: Load and examine data, cleaning, tokenization, padding\n",
    "- Modeling: Build an encoder-decoder model with Attention\n",
    "- Prediction: Generate specific translations of French to English, and compare the output translations to the ground truth translations"
   ]
  },
  {
   "cell_type": "code",
   "execution_count": 1,
   "metadata": {},
   "outputs": [
    {
     "name": "stderr",
     "output_type": "stream",
     "text": [
      "Using TensorFlow backend.\n",
      "UsageError: Line magic function `%` not found.\n"
     ]
    }
   ],
   "source": [
    "from __future__ import print_function, division\n",
    "from builtins import range, input\n",
    "\n",
    "import os, sys\n",
    "import string\n",
    "import pandas as pd\n",
    "import re\n",
    "import numpy as np\n",
    "import matplotlib.pyplot as plt\n",
    "import matplotlib.pyplot as plt\n",
    "\n",
    "\n",
    "from keras.models import Model\n",
    "from keras.layers import Input, LSTM, GRU, Dense, Embedding, \\\n",
    "  Bidirectional, RepeatVector, Concatenate, Activation, Dot, Lambda\n",
    "from keras.preprocessing.text import Tokenizer\n",
    "from keras.preprocessing.sequence import pad_sequences\n",
    "import keras.backend as K\n",
    "from keras.callbacks import ModelCheckpoint\n",
    "from keras.models import load_model\n",
    "from keras.optimizers import adam\n",
    "from keras import optimizers\n",
    "from sklearn.model_selection import train_test_split\n",
    "\n",
    "% matplotlib inline\n",
    "pd.set_option('display.max_colwidth', 200)"
   ]
  },
  {
   "cell_type": "markdown",
   "metadata": {},
   "source": [
    "### Model Configurations"
   ]
  },
  {
   "cell_type": "code",
   "execution_count": 2,
   "metadata": {},
   "outputs": [],
   "source": [
    "# config\n",
    "BATCH_SIZE = 1024\n",
    "EPOCHS = 30\n",
    "LATENT_DIM = 256\n",
    "LATENT_DIM_DECODER = 256 \n",
    "EMBEDDING_DIM = 300\n"
   ]
  },
  {
   "cell_type": "markdown",
   "metadata": {},
   "source": [
    "## Dataset\n",
    "We begin by investigating the dataset that will be used to train and evaluate your pipeline.  \n",
    "\n",
    "### Load Data\n",
    "The `data_en` file contains English sentences with their French translations in the `data_fr` file. Load the English and French data from these files from running the cell below."
   ]
  },
  {
   "cell_type": "code",
   "execution_count": 4,
   "metadata": {},
   "outputs": [
    {
     "name": "stdout",
     "output_type": "stream",
     "text": [
      "Sample translations (137860)\n",
      "( 0 ) FR:  new jersey est parfois calme pendant l' automne , et il est neigeux en avril .\n",
      "\n",
      "( 0 ) EN:  new jersey is sometimes quiet during autumn , and it is snowy in april .\n",
      "\n",
      "( 1 ) FR:  les états-unis est généralement froid en juillet , et il gèle habituellement en novembre .\n",
      "\n",
      "( 1 ) EN:  the united states is usually chilly during july , and it is usually freezing in november .\n",
      "\n"
     ]
    }
   ],
   "source": [
    "french_sentences = []\n",
    "english_sentences = []\n",
    "\n",
    "test_source_sent = []\n",
    "test_target_sent = []\n",
    "\n",
    "#Read files from folder\n",
    "with open('data_fr', encoding='utf-8') as f:\n",
    "    for l_i, line in enumerate(f):\n",
    "        french_sentences.append(line)\n",
    "        \n",
    "        \n",
    "            \n",
    "with open('data_en', encoding='utf-8') as f:\n",
    "    for l_i, line in enumerate(f):\n",
    "        english_sentences.append(line)      \n",
    "        \n",
    "#Calculate the dataset size            \n",
    "assert len(french_sentences)==len(english_sentences),'Source: %d, Target: %d'%(len(french_sentences),len(english_sentences))\n",
    "\n",
    "df=pd.DataFrame(french_sentences,columns=['fra'])\n",
    "df['eng']=english_sentences\n",
    "df=df[0:50000]\n",
    "print('Sample translations (%d)'%len(french_sentences))\n",
    "for i in range(0,2):\n",
    "    print('(',i,') FR: ', df.iloc[i,0])\n",
    "    print('(',i,') EN: ', df.iloc[i,1])\n",
    "    "
   ]
  },
  {
   "cell_type": "markdown",
   "metadata": {},
   "source": [
    "### Train Test Split"
   ]
  },
  {
   "cell_type": "code",
   "execution_count": 5,
   "metadata": {},
   "outputs": [],
   "source": [
    "fr_train, fr_test, en_train, en_test = train_test_split(df[\"fra\"],df[\"eng\"], test_size=0.2, random_state = 12)"
   ]
  },
  {
   "cell_type": "code",
   "execution_count": 6,
   "metadata": {},
   "outputs": [
    {
     "name": "stdout",
     "output_type": "stream",
     "text": [
      "Sample train size: 40000\n"
     ]
    }
   ],
   "source": [
    "input_texts = [] # French sentences\n",
    "target_texts = [] # English sentences\n",
    "target_texts_inputs = []# english sentences offset by 1 for teacher forcing\n",
    "\n",
    "#Converting to lowercase\n",
    "fr_train=[line.lower() for line in fr_train]\n",
    "en_train=[line.lower() for line in en_train]\n",
    "NUM_SAMPLES=len(fr_train)\n",
    "print(\"Sample train size:\",NUM_SAMPLES)"
   ]
  },
  {
   "cell_type": "markdown",
   "metadata": {},
   "source": [
    "From looking at the sentences, you can see that they have been preprocessed already.  The puncuations have been delimited using spaces. All the text have been converted to lowercase.  This should save you some time, but the text requires more preprocessing."
   ]
  },
  {
   "cell_type": "markdown",
   "metadata": {},
   "source": [
    "## Preprocess\n",
    "For this project, you won't use text data as input to your model. Instead, you'll convert the text into sequences of integers using the following preprocess methods:\n",
    "1. Add start and end tokens to the sentences\n",
    "2. Tokenize the words of the sentences\n",
    "3. Add padding to make all the sequences of same length.\n",
    "\n",
    "Time to start preprocessing the data...\n",
    "### Tokenize \n",
    "For a neural network to predict on text data, it first has to be turned into data it can understand. Text data like \"dog\" is a sequence of ASCII character encodings.  Since a neural network is a series of multiplication and addition operations, the input data needs to be number(s).\n",
    "\n",
    "We can turn each character into a number or each word into a number.  These are called character and word ids, respectively.  Character ids are used for character level models that generate text predictions for each character.  A word level model uses word ids that generate text predictions for each word.  Word level models tend to learn better, since they are lower in complexity, so we'll use those.\n",
    "\n",
    "Turn each sentence into a sequence of words ids using Keras's [`Tokenizer`](https://keras.io/preprocessing/text/#tokenizer) function. Use this function to tokenize `english_sentences` and `french_sentences` in the cell below.\n",
    "\n",
    "\n",
    "### Padding\n",
    "When batching the sequence of word ids together, each sequence needs to be the same length. Since sentences are dynamic in length, we can add padding to the end of the sequences to make them the same length.\n",
    "\n",
    "Make sure all the English sequences have the same length and all the French sequences have the same length by adding padding to the end of each sequence using Keras's [`pad_sequences`](https://keras.io/preprocessing/sequence/#pad_sequences) function."
   ]
  },
  {
   "cell_type": "markdown",
   "metadata": {},
   "source": [
    "__Preprocess Train Data__"
   ]
  },
  {
   "cell_type": "code",
   "execution_count": 7,
   "metadata": {},
   "outputs": [],
   "source": [
    "#Adding <sos> and <eos> tokens\n",
    "\n",
    "for lines in en_train:\n",
    "    target_texts_inputs.append('<sos>'+\" \"+ lines)\n",
    "    \n",
    "for lines in en_train:\n",
    "    target_texts.append(lines+ \" \" +'<eos>')\n",
    "    \n",
    "for lines in fr_train:\n",
    "    input_texts.append(lines)"
   ]
  },
  {
   "cell_type": "code",
   "execution_count": 8,
   "metadata": {},
   "outputs": [
    {
     "name": "stdout",
     "output_type": "stream",
     "text": [
      "Data Preprocessed\n",
      "Max train English sentence length: 18\n",
      "Max train French sentence length: 20\n"
     ]
    }
   ],
   "source": [
    "# tokenize French sentences\n",
    "tokenizer_inputs = Tokenizer()\n",
    "tokenizer_inputs.fit_on_texts(input_texts)\n",
    "input_sequences = tokenizer_inputs.texts_to_sequences(input_texts)\n",
    "\n",
    "# word to index mapping for French\n",
    "word2idx_inputs = tokenizer_inputs.word_index\n",
    "\n",
    "# Max length of French sentence\n",
    "max_len_input = max(len(s) for s in input_sequences)\n",
    "\n",
    "#tokenize English sentences\n",
    "tokenizer_outputs = Tokenizer(filters='')\n",
    "tokenizer_outputs.fit_on_texts(target_texts + target_texts_inputs) \n",
    "target_sequences = tokenizer_outputs.texts_to_sequences(target_texts)\n",
    "target_sequences_inputs = tokenizer_outputs.texts_to_sequences(target_texts_inputs)\n",
    "\n",
    "# Word to index mapping for English\n",
    "word2idx_outputs = tokenizer_outputs.word_index\n",
    "\n",
    "# store number of output words for later\n",
    "num_words_output = len(word2idx_outputs) + 1\n",
    "\n",
    "# Max length of English sentence\n",
    "max_len_target = max(len(s) for s in target_sequences)\n",
    "\n",
    "# pad the sequences\n",
    "encoder_inputs = pad_sequences(input_sequences, maxlen=max_len_input)\n",
    "decoder_inputs = pad_sequences(target_sequences_inputs, maxlen=max_len_target, padding='post')\n",
    "decoder_targets = pad_sequences(target_sequences, maxlen=max_len_target, padding='post')\n",
    "\n",
    "print('Data Preprocessed')\n",
    "print(\"Max train English sentence length:\", max_len_target)\n",
    "print(\"Max train French sentence length:\", max_len_input)\n"
   ]
  },
  {
   "cell_type": "markdown",
   "metadata": {},
   "source": [
    "__Preprocess Test Data__"
   ]
  },
  {
   "cell_type": "code",
   "execution_count": 9,
   "metadata": {},
   "outputs": [],
   "source": [
    "##Test Preparation\n",
    "input_texts_test = [] # French sentences\n",
    "target_texts_test = [] # English sentences\n",
    "target_texts_inputs_test = []# english sentences offset by 1 for teacher forcing\n",
    "\n",
    "#Converting to lowercase\n",
    "fr_test=[line.lower() for line in fr_test]\n",
    "en_test=[line.lower() for line in en_test]"
   ]
  },
  {
   "cell_type": "code",
   "execution_count": 10,
   "metadata": {},
   "outputs": [],
   "source": [
    "#Adding <sos> and <eos> tokens\n",
    "\n",
    "for lines in en_test:\n",
    "    target_texts_inputs_test.append('<sos>'+\" \"+ lines)\n",
    "    \n",
    "for lines in en_test:\n",
    "    target_texts_test.append(lines+ \" \" +'<eos>')\n",
    "    \n",
    "for lines in fr_test:\n",
    "    input_texts_test.append(lines)"
   ]
  },
  {
   "cell_type": "code",
   "execution_count": 11,
   "metadata": {},
   "outputs": [
    {
     "name": "stdout",
     "output_type": "stream",
     "text": [
      "Max test English sentence length: 18\n",
      "Max test French sentence length: 20\n"
     ]
    }
   ],
   "source": [
    "# tokenize French sentences\n",
    "\n",
    "input_sequences_test = tokenizer_inputs.texts_to_sequences(input_texts_test)\n",
    "\n",
    "\n",
    "target_sequences_test = tokenizer_outputs.texts_to_sequences(target_texts_test)\n",
    "target_sequences_inputs_test = tokenizer_outputs.texts_to_sequences(target_texts_inputs_test)\n",
    "\n",
    "# pad the sequences\n",
    "encoder_inputs_test = pad_sequences(input_sequences_test, maxlen=max_len_input)\n",
    "decoder_inputs_test = pad_sequences(target_sequences_inputs_test, maxlen=max_len_target, padding='post')\n",
    "decoder_targets_test = pad_sequences(target_sequences_test, maxlen=max_len_target, padding='post')\n",
    "\n",
    "print(\"Max test English sentence length:\", decoder_inputs_test.shape[1])\n",
    "print(\"Max test French sentence length:\", encoder_inputs_test.shape[1])"
   ]
  },
  {
   "cell_type": "markdown",
   "metadata": {},
   "source": [
    "### Embedding\n",
    "\n",
    "In word embeddings, every word is represented as an n-dimensional dense vector. The words that are similar will have similar vector. The position of a word within the vector space is learned from text and is based on the words that surround the word when it is used.\n",
    "\n",
    "For French sentences, i.e. the inputs, we will use the [`GloVe`](https://nlp.stanford.edu/projects/glove/) word embeddings. For the translated English sentences in the output, we will use custom word embeddings.\n",
    "\n",
    "Let's create word embeddings for the inputs first. To do so, we need to load the GloVe word vectors into memory. We will then create a dictionary where words are the keys and the corresponding vectors are values, as shown below:"
   ]
  },
  {
   "cell_type": "code",
   "execution_count": 31,
   "metadata": {},
   "outputs": [
    {
     "name": "stdout",
     "output_type": "stream",
     "text": [
      "Loading word vectors...\n",
      "Found 400000 word vectors.\n"
     ]
    }
   ],
   "source": [
    "#Load pretrained word vectors from Glove\n",
    "print('Loading word vectors...')\n",
    "word2vec = {}\n",
    "with open(os.path.join('glove.6B.%sd.txt' % EMBEDDING_DIM), encoding=\"utf8\") as f:\n",
    "  # is just a space-separated text file in the format:\n",
    "  # word vec[0] vec[1] vec[2] ...\n",
    "  for line in f:\n",
    "    values = line.split()\n",
    "    word = values[0]\n",
    "    vec = np.asarray(values[1:], dtype='float32')\n",
    "    word2vec[word] = vec\n",
    "print('Found %s word vectors.' % len(word2vec))\n"
   ]
  },
  {
   "cell_type": "code",
   "execution_count": 14,
   "metadata": {},
   "outputs": [
    {
     "name": "stdout",
     "output_type": "stream",
     "text": [
      "Filling pre-trained embeddings...\n"
     ]
    }
   ],
   "source": [
    "# prepare embedding matrix\n",
    "print('Filling pre-trained embeddings...')\n",
    "num_words=len(word2idx_inputs) + 1\n",
    "embedding_matrix = np.zeros((num_words, EMBEDDING_DIM))\n",
    "for word, i in word2idx_inputs.items():\n",
    "  if i < num_words:\n",
    "    embedding_vector = word2vec.get(word)\n",
    "    if embedding_vector is not None:\n",
    "      # words not found in embedding index will be all zeros.\n",
    "      embedding_matrix[i] = embedding_vector"
   ]
  },
  {
   "cell_type": "markdown",
   "metadata": {},
   "source": [
    "### Creating the Model\n",
    "The idea is to have two recurrent neural networks (RNNs) with an encoder-decoder architecture: read the input words one by one to obtain a vector representation of a fixed dimensionality (encoder), and, conditioned on these inputs, extract the output words one by one using another RNN (decoder).\n"
   ]
  },
  {
   "cell_type": "markdown",
   "metadata": {},
   "source": [
    "### Define Softmax Activation Function"
   ]
  },
  {
   "cell_type": "code",
   "execution_count": 15,
   "metadata": {},
   "outputs": [],
   "source": [
    "def softmax_over_time(x):\n",
    "  assert(K.ndim(x) > 2)\n",
    "  e = K.exp(x - K.max(x, axis=1, keepdims=True))\n",
    "  s = K.sum(e, axis=1, keepdims=True)\n",
    "  return e / s"
   ]
  },
  {
   "cell_type": "markdown",
   "metadata": {},
   "source": [
    "### Define Embedding Layer"
   ]
  },
  {
   "cell_type": "code",
   "execution_count": 16,
   "metadata": {},
   "outputs": [],
   "source": [
    "# create embedding layer\n",
    "embedding_layer = Embedding(\n",
    "  num_words,\n",
    "  EMBEDDING_DIM,\n",
    "  weights=[embedding_matrix],\n",
    "  input_length=max_len_input,\n",
    "  # trainable=True\n",
    ")\n"
   ]
  },
  {
   "cell_type": "markdown",
   "metadata": {},
   "source": [
    "### One-hot Encoding\n",
    "\n",
    "To make predictions, the final layer of the model will be a dense layer, therefore we need the outputs in the form of one-hot encoded vectors, since we will be using softmax activation function at the dense layer. To create such one-hot encoded output, the next step is to assign 1 to the column number that corresponds to the integer representation of the word. "
   ]
  },
  {
   "cell_type": "code",
   "execution_count": 17,
   "metadata": {},
   "outputs": [],
   "source": [
    "\n",
    "decoder_targets_one_hot = np.zeros(\n",
    "  (\n",
    "    len(input_texts),\n",
    "    max_len_target,\n",
    "    num_words_output\n",
    "  ),\n",
    "  dtype='float32'\n",
    ")\n",
    "\n",
    "# assign the values\n",
    "for i, d in enumerate(decoder_targets):\n",
    "  for t, word in enumerate(d):\n",
    "    decoder_targets_one_hot[i, t, word] = 1"
   ]
  },
  {
   "cell_type": "markdown",
   "metadata": {},
   "source": [
    "### Define Encoding Layer\n",
    "The input to the encoder will be the sentence in French and the output will be the hidden state and cell state of the LSTM."
   ]
  },
  {
   "cell_type": "code",
   "execution_count": 18,
   "metadata": {},
   "outputs": [],
   "source": [
    "#encoder\n",
    "encoder_inputs_placeholder = Input(shape=(max_len_input,))\n",
    "x = embedding_layer(encoder_inputs_placeholder)\n",
    "encoder = Bidirectional(LSTM(\n",
    "  LATENT_DIM,\n",
    "  return_sequences=True,\n",
    "))\n",
    "encoder_outputs = encoder(x)\n"
   ]
  },
  {
   "cell_type": "markdown",
   "metadata": {},
   "source": [
    "### Define Decoder Layer\n",
    "\n",
    "The next step is to define the decoder. The decoder will have two inputs: the hidden state and cell state from the encoder and the input sentence, which actually will be the output sentence with an \"</sos/>\" token appended at the beginning."
   ]
  },
  {
   "cell_type": "code",
   "execution_count": 19,
   "metadata": {},
   "outputs": [],
   "source": [
    "#Decoder\n",
    "decoder_inputs_placeholder = Input(shape=(max_len_target,))\n",
    "decoder_embedding = Embedding(num_words_output, EMBEDDING_DIM)\n",
    "decoder_inputs_x = decoder_embedding(decoder_inputs_placeholder)\n",
    "\n"
   ]
  },
  {
   "cell_type": "markdown",
   "metadata": {},
   "source": [
    "### Define Attention Layers"
   ]
  },
  {
   "cell_type": "markdown",
   "metadata": {},
   "source": [
    "To improve the performance of the Neural Machine Translator, Attention mechanism (Dot attention) is implemented. The attention model develops a context vector that is filtered specifically for each output time step.\n",
    "\n",
    "Attention places different focus on different words by assigning each word with a score. Then, using the softmaxed scores, we aggregate the encoder hidden states using a weighted sum of the encoder hidden states, to get the context vector. \n",
    "\n",
    "Rather than re-iterating through the equations for calculating attention, a function `one_step_attention` is defined. "
   ]
  },
  {
   "cell_type": "code",
   "execution_count": 20,
   "metadata": {},
   "outputs": [],
   "source": [
    "#Attention\n",
    "attn_repeat_layer = RepeatVector(max_len_input)\n",
    "attn_concat_layer = Concatenate(axis=-1)\n",
    "attn_dense1 = Dense(10, activation='tanh')\n",
    "attn_dense2 = Dense(1, activation=softmax_over_time)\n",
    "\n",
    "attn_dot = Dot(axes=1) # to perform the weighted sum of alpha[t] * h[t]\n"
   ]
  },
  {
   "cell_type": "code",
   "execution_count": 21,
   "metadata": {},
   "outputs": [],
   "source": [
    "def one_step_attention(h, st_1):\n",
    "  # h = h(1), ..., h(Tx), shape = (Tx, LATENT_DIM * 2)\n",
    "  # st_1 = s(t-1), shape = (LATENT_DIM_DECODER,)\n",
    " \n",
    "  # copy s(t-1) Tx times\n",
    "  # now shape = (Tx, LATENT_DIM_DECODER)\n",
    "  st_1 = attn_repeat_layer(st_1)\n",
    "\n",
    "  # Concatenate all h(t)'s with s(t-1)\n",
    "  # Now of shape (Tx, LATENT_DIM_DECODER + LATENT_DIM * 2)\n",
    "  x = attn_concat_layer([h, st_1])\n",
    "\n",
    "  # Neural net first layer\n",
    "  x = attn_dense1(x)\n",
    "\n",
    "  # Neural net second layer with special softmax over time\n",
    "  alphas = attn_dense2(x)\n",
    "\n",
    "  # \"Dot\" the alphas and the h's\n",
    "  # Remember a.dot(b) = sum over a[t] * b[t]\n",
    "  context = attn_dot([alphas, h])\n",
    "\n",
    "  return context\n"
   ]
  },
  {
   "cell_type": "code",
   "execution_count": 22,
   "metadata": {},
   "outputs": [],
   "source": [
    "# define the rest of the decoder (after attention)\n",
    "decoder_lstm = LSTM(LATENT_DIM_DECODER, return_state=True)\n",
    "decoder_dense = Dense(num_words_output, activation='softmax')\n",
    "\n",
    "initial_s = Input(shape=(LATENT_DIM_DECODER,), name='s0')\n",
    "initial_c = Input(shape=(LATENT_DIM_DECODER,), name='c0')\n",
    "context_last_word_concat_layer = Concatenate(axis=2)"
   ]
  },
  {
   "cell_type": "code",
   "execution_count": 23,
   "metadata": {},
   "outputs": [],
   "source": [
    "# s, c will be re-assigned in each iteration of the loop\n",
    "s = initial_s\n",
    "c = initial_c\n",
    "\n",
    "# collect outputs in a list at first\n",
    "outputs = []\n",
    "for t in range(max_len_target): # Ty times\n",
    "  # get the context using attention\n",
    "  context = one_step_attention(encoder_outputs, s)\n",
    "\n",
    "  # we need a different layer for each time step\n",
    "  selector = Lambda(lambda x: x[:, t:t+1])\n",
    "  xt = selector(decoder_inputs_x)\n",
    "  \n",
    "  # combine \n",
    "  decoder_lstm_input = context_last_word_concat_layer([context, xt])\n",
    "\n",
    "  # pass the combined [context, last word] into the LSTM\n",
    "  # along with [s, c]\n",
    "  # get the new [s, c] and output\n",
    "  o, s, c = decoder_lstm(decoder_lstm_input, initial_state=[s, c])\n",
    "\n",
    "  # final dense layer to get next word prediction\n",
    "  decoder_outputs = decoder_dense(o)\n",
    "  outputs.append(decoder_outputs)"
   ]
  },
  {
   "cell_type": "code",
   "execution_count": 24,
   "metadata": {},
   "outputs": [],
   "source": [
    "def stack_and_transpose(x):\n",
    "  # x is a list of length T, each element is a batch_size x output_vocab_size tensor\n",
    "  x = K.stack(x) # is now T x batch_size x output_vocab_size tensor\n",
    "  x = K.permute_dimensions(x, pattern=(1, 0, 2)) # is now batch_size x T x output_vocab_size\n",
    "  return x\n",
    "\n",
    "# make it a layerx``\n",
    "stacker = Lambda(stack_and_transpose)\n",
    "outputs = stacker(outputs)\n"
   ]
  },
  {
   "cell_type": "code",
   "execution_count": 25,
   "metadata": {},
   "outputs": [],
   "source": [
    "# create the model\n",
    "model = Model(\n",
    "  inputs=[\n",
    "    encoder_inputs_placeholder,\n",
    "    decoder_inputs_placeholder,\n",
    "    initial_s, \n",
    "    initial_c,\n",
    "  ],\n",
    "  outputs=outputs\n",
    ")"
   ]
  },
  {
   "cell_type": "markdown",
   "metadata": {},
   "source": [
    "### Model Training"
   ]
  },
  {
   "cell_type": "code",
   "execution_count": 26,
   "metadata": {},
   "outputs": [],
   "source": [
    "learning_rate=0.001\n",
    "# checkpoint\n",
    "filepath=\"french_eng_finalmodel\"\n",
    "checkpoint = ModelCheckpoint(filepath, monitor='val_accuracy', verbose=1, save_best_only=True, mode='max')\n",
    "callbacks_list = [checkpoint]\n",
    "\n",
    "# compile the model\n",
    "\n",
    "model.compile(optimizer=optimizers.Adam(learning_rate) ,loss='categorical_crossentropy', metrics=['accuracy'])\n"
   ]
  },
  {
   "cell_type": "code",
   "execution_count": 27,
   "metadata": {},
   "outputs": [
    {
     "name": "stdout",
     "output_type": "stream",
     "text": [
      "WARNING:tensorflow:From C:\\Users\\sinch\\Anaconda3\\envs\\tensorflow\\lib\\site-packages\\tensorflow\\python\\ops\\math_grad.py:1250: add_dispatch_support.<locals>.wrapper (from tensorflow.python.ops.array_ops) is deprecated and will be removed in a future version.\n",
      "Instructions for updating:\n",
      "Use tf.where in 2.0, which has the same broadcast rule as np.where\n",
      "WARNING:tensorflow:From C:\\Users\\sinch\\Anaconda3\\envs\\tensorflow\\lib\\site-packages\\keras\\backend\\tensorflow_backend.py:422: The name tf.global_variables is deprecated. Please use tf.compat.v1.global_variables instead.\n",
      "\n",
      "Train on 32000 samples, validate on 8000 samples\n",
      "Epoch 1/30\n",
      "32000/32000 [==============================] - 166s 5ms/step - loss: 3.5001 - accuracy: 0.2610 - val_loss: 2.7392 - val_accuracy: 0.3689\n",
      "\n",
      "Epoch 00001: val_accuracy improved from -inf to 0.36892, saving model to french_eng_finalmodel\n",
      "Epoch 2/30\n",
      "32000/32000 [==============================] - 160s 5ms/step - loss: 2.3606 - accuracy: 0.4976 - val_loss: 2.0123 - val_accuracy: 0.5802\n",
      "\n",
      "Epoch 00002: val_accuracy improved from 0.36892 to 0.58021, saving model to french_eng_finalmodel\n",
      "Epoch 3/30\n",
      "32000/32000 [==============================] - 160s 5ms/step - loss: 1.7014 - accuracy: 0.6247 - val_loss: 1.4083 - val_accuracy: 0.6718\n",
      "\n",
      "Epoch 00003: val_accuracy improved from 0.58021 to 0.67181, saving model to french_eng_finalmodel\n",
      "Epoch 4/30\n",
      "32000/32000 [==============================] - 160s 5ms/step - loss: 1.2054 - accuracy: 0.7013 - val_loss: 1.0190 - val_accuracy: 0.7462\n",
      "\n",
      "Epoch 00004: val_accuracy improved from 0.67181 to 0.74623, saving model to french_eng_finalmodel\n",
      "Epoch 5/30\n",
      "32000/32000 [==============================] - 160s 5ms/step - loss: 0.9032 - accuracy: 0.7758 - val_loss: 0.7975 - val_accuracy: 0.7972\n",
      "\n",
      "Epoch 00005: val_accuracy improved from 0.74623 to 0.79722, saving model to french_eng_finalmodel\n",
      "Epoch 6/30\n",
      "32000/32000 [==============================] - 160s 5ms/step - loss: 0.7359 - accuracy: 0.8076 - val_loss: 0.7053 - val_accuracy: 0.8087\n",
      "\n",
      "Epoch 00006: val_accuracy improved from 0.79722 to 0.80866, saving model to french_eng_finalmodel\n",
      "Epoch 7/30\n",
      "32000/32000 [==============================] - 162s 5ms/step - loss: 0.6244 - accuracy: 0.8361 - val_loss: 0.5573 - val_accuracy: 0.8590\n",
      "\n",
      "Epoch 00007: val_accuracy improved from 0.80866 to 0.85899, saving model to french_eng_finalmodel\n",
      "Epoch 8/30\n",
      "32000/32000 [==============================] - 159s 5ms/step - loss: 0.5006 - accuracy: 0.8782 - val_loss: 0.4395 - val_accuracy: 0.8958\n",
      "\n",
      "Epoch 00008: val_accuracy improved from 0.85899 to 0.89583, saving model to french_eng_finalmodel\n",
      "Epoch 9/30\n",
      "32000/32000 [==============================] - 160s 5ms/step - loss: 0.3843 - accuracy: 0.9126 - val_loss: 0.3314 - val_accuracy: 0.9257\n",
      "\n",
      "Epoch 00009: val_accuracy improved from 0.89583 to 0.92567, saving model to french_eng_finalmodel\n",
      "Epoch 10/30\n",
      "32000/32000 [==============================] - 160s 5ms/step - loss: 0.2844 - accuracy: 0.9378 - val_loss: 0.2433 - val_accuracy: 0.9484\n",
      "\n",
      "Epoch 00010: val_accuracy improved from 0.92567 to 0.94843, saving model to french_eng_finalmodel\n",
      "Epoch 11/30\n",
      "32000/32000 [==============================] - 160s 5ms/step - loss: 0.2067 - accuracy: 0.9571 - val_loss: 0.1767 - val_accuracy: 0.9641\n",
      "\n",
      "Epoch 00011: val_accuracy improved from 0.94843 to 0.96409, saving model to french_eng_finalmodel\n",
      "Epoch 12/30\n",
      "32000/32000 [==============================] - 160s 5ms/step - loss: 0.1464 - accuracy: 0.9697 - val_loss: 0.1247 - val_accuracy: 0.9722\n",
      "\n",
      "Epoch 00012: val_accuracy improved from 0.96409 to 0.97217, saving model to french_eng_finalmodel\n",
      "Epoch 13/30\n",
      "32000/32000 [==============================] - 159s 5ms/step - loss: 0.1064 - accuracy: 0.9752 - val_loss: 0.0934 - val_accuracy: 0.9762\n",
      "\n",
      "Epoch 00013: val_accuracy improved from 0.97217 to 0.97621, saving model to french_eng_finalmodel\n",
      "Epoch 14/30\n",
      "32000/32000 [==============================] - 159s 5ms/step - loss: 0.2066 - accuracy: 0.9443 - val_loss: 0.4684 - val_accuracy: 0.8739\n",
      "\n",
      "Epoch 00014: val_accuracy did not improve from 0.97621\n",
      "Epoch 15/30\n",
      "32000/32000 [==============================] - 160s 5ms/step - loss: 0.2124 - accuracy: 0.9548 - val_loss: 0.1060 - val_accuracy: 0.9745\n",
      "\n",
      "Epoch 00015: val_accuracy did not improve from 0.97621\n",
      "Epoch 16/30\n",
      "32000/32000 [==============================] - 166s 5ms/step - loss: 0.0868 - accuracy: 0.9764 - val_loss: 0.0760 - val_accuracy: 0.9766\n",
      "\n",
      "Epoch 00016: val_accuracy improved from 0.97621 to 0.97656, saving model to french_eng_finalmodel\n",
      "Epoch 17/30\n",
      "32000/32000 [==============================] - 178s 6ms/step - loss: 0.0691 - accuracy: 0.9781 - val_loss: 0.0654 - val_accuracy: 0.9778\n",
      "\n",
      "Epoch 00017: val_accuracy improved from 0.97656 to 0.97785, saving model to french_eng_finalmodel\n",
      "Epoch 18/30\n",
      "32000/32000 [==============================] - 175s 5ms/step - loss: 0.0609 - accuracy: 0.9790 - val_loss: 0.0590 - val_accuracy: 0.9788\n",
      "\n",
      "Epoch 00018: val_accuracy improved from 0.97785 to 0.97878, saving model to french_eng_finalmodel\n",
      "Epoch 19/30\n",
      "32000/32000 [==============================] - 174s 5ms/step - loss: 0.0551 - accuracy: 0.9802 - val_loss: 0.0541 - val_accuracy: 0.9806\n",
      "\n",
      "Epoch 00019: val_accuracy improved from 0.97878 to 0.98058, saving model to french_eng_finalmodel\n",
      "Epoch 20/30\n",
      "32000/32000 [==============================] - 174s 5ms/step - loss: 0.0506 - accuracy: 0.9815 - val_loss: 0.0501 - val_accuracy: 0.9815\n",
      "\n",
      "Epoch 00020: val_accuracy improved from 0.98058 to 0.98151, saving model to french_eng_finalmodel\n",
      "Epoch 21/30\n",
      "32000/32000 [==============================] - 176s 5ms/step - loss: 0.0470 - accuracy: 0.9826 - val_loss: 0.0471 - val_accuracy: 0.9823\n",
      "\n",
      "Epoch 00021: val_accuracy improved from 0.98151 to 0.98226, saving model to french_eng_finalmodel\n",
      "Epoch 22/30\n",
      "32000/32000 [==============================] - 176s 5ms/step - loss: 0.0439 - accuracy: 0.9835 - val_loss: 0.0442 - val_accuracy: 0.9827\n",
      "\n",
      "Epoch 00022: val_accuracy improved from 0.98226 to 0.98273, saving model to french_eng_finalmodel\n",
      "Epoch 23/30\n",
      "32000/32000 [==============================] - 174s 5ms/step - loss: 0.0413 - accuracy: 0.9841 - val_loss: 0.0417 - val_accuracy: 0.9836\n",
      "\n",
      "Epoch 00023: val_accuracy improved from 0.98273 to 0.98364, saving model to french_eng_finalmodel\n",
      "Epoch 24/30\n",
      "32000/32000 [==============================] - 162s 5ms/step - loss: 0.0392 - accuracy: 0.9844 - val_loss: 0.0402 - val_accuracy: 0.9833\n",
      "\n",
      "Epoch 00024: val_accuracy did not improve from 0.98364\n",
      "Epoch 25/30\n",
      "32000/32000 [==============================] - 160s 5ms/step - loss: 0.0374 - accuracy: 0.9848 - val_loss: 0.0381 - val_accuracy: 0.9839\n",
      "\n",
      "Epoch 00025: val_accuracy improved from 0.98364 to 0.98388, saving model to french_eng_finalmodel\n",
      "Epoch 26/30\n",
      "32000/32000 [==============================] - 159s 5ms/step - loss: 0.0357 - accuracy: 0.9850 - val_loss: 0.0366 - val_accuracy: 0.9841\n",
      "\n",
      "Epoch 00026: val_accuracy improved from 0.98388 to 0.98411, saving model to french_eng_finalmodel\n",
      "Epoch 27/30\n",
      "32000/32000 [==============================] - 160s 5ms/step - loss: 0.0343 - accuracy: 0.9853 - val_loss: 0.0356 - val_accuracy: 0.9843\n",
      "\n",
      "Epoch 00027: val_accuracy improved from 0.98411 to 0.98430, saving model to french_eng_finalmodel\n",
      "Epoch 28/30\n",
      "32000/32000 [==============================] - 163s 5ms/step - loss: 0.0331 - accuracy: 0.9855 - val_loss: 0.0343 - val_accuracy: 0.9844\n",
      "\n",
      "Epoch 00028: val_accuracy improved from 0.98430 to 0.98436, saving model to french_eng_finalmodel\n",
      "Epoch 29/30\n",
      "32000/32000 [==============================] - 173s 5ms/step - loss: 0.0320 - accuracy: 0.9859 - val_loss: 0.0332 - val_accuracy: 0.9841\n",
      "\n",
      "Epoch 00029: val_accuracy did not improve from 0.98436\n",
      "Epoch 30/30\n",
      "32000/32000 [==============================] - 171s 5ms/step - loss: 0.0310 - accuracy: 0.9861 - val_loss: 0.0325 - val_accuracy: 0.9843\n",
      "\n",
      "Epoch 00030: val_accuracy did not improve from 0.98436\n"
     ]
    }
   ],
   "source": [
    "# train the model\n",
    "z = np.zeros((encoder_inputs.shape[0], LATENT_DIM_DECODER)) # initial [s, c]\n",
    "r = model.fit(\n",
    "  [encoder_inputs, decoder_inputs, z, z], decoder_targets_one_hot,\n",
    "  batch_size=BATCH_SIZE,\n",
    "  epochs=EPOCHS,\n",
    "  validation_split=0.2,\n",
    "    callbacks=callbacks_list\n",
    ")\n"
   ]
  },
  {
   "cell_type": "code",
   "execution_count": 28,
   "metadata": {},
   "outputs": [
    {
     "data": {
      "image/png": "[encoded data removed]",
      "text/plain": [
       "<Figure size 432x288 with 1 Axes>"
      ]
     },
     "metadata": {
      "needs_background": "light"
     },
     "output_type": "display_data"
    }
   ],
   "source": [
    "# plot some data\n",
    "plt.plot(r.history['loss'], label='loss')\n",
    "plt.plot(r.history['val_loss'], label='val_loss')\n",
    "plt.legend()\n",
    "plt.show()\n",
    "\n"
   ]
  },
  {
   "cell_type": "code",
   "execution_count": 29,
   "metadata": {},
   "outputs": [
    {
     "data": {
      "image/png": "[encoded data removed]",
      "text/plain": [
       "<Figure size 432x288 with 1 Axes>"
      ]
     },
     "metadata": {
      "needs_background": "light"
     },
     "output_type": "display_data"
    }
   ],
   "source": [
    "# accuracies\n",
    "plt.plot(r.history['accuracy'], label='acc')\n",
    "plt.plot(r.history['val_accuracy'], label='val_acc')\n",
    "plt.legend()\n",
    "plt.show()\n"
   ]
  },
  {
   "cell_type": "markdown",
   "metadata": {},
   "source": [
    "### Modifying the model for Predictions\n",
    "While training, we know the actual inputs to the decoder for all the output words in the sequence. However, during predictions the next word will be predicted on the basis of the previous word, which in turn is also predicted in the previous time-step. \n",
    "\n",
    "While making actual predictions, the full output sequence is not available, in fact that is what we have to predict. During prediction the only start and end token is avaialbale to us. We will use this to predict the output sentences. "
   ]
  },
  {
   "cell_type": "code",
   "execution_count": 30,
   "metadata": {},
   "outputs": [],
   "source": [
    "encoder_model = Model(encoder_inputs_placeholder, encoder_outputs)\n",
    "\n",
    "# next we define a T=1 decoder model\n",
    "encoder_outputs_as_input = Input(shape=(max_len_input, LATENT_DIM * 2,))\n",
    "decoder_inputs_single = Input(shape=(1,))\n",
    "decoder_inputs_single_x = decoder_embedding(decoder_inputs_single)\n",
    "\n",
    "# no need to loop over attention steps this time because there is only one step\n",
    "context = one_step_attention(encoder_outputs_as_input, initial_s)\n",
    "\n",
    "# combine context with last word\n",
    "decoder_lstm_input = context_last_word_concat_layer([context, decoder_inputs_single_x])\n",
    "\n",
    "# lstm and final dense\n",
    "o, s, c = decoder_lstm(decoder_lstm_input, initial_state=[initial_s, initial_c])\n",
    "decoder_outputs = decoder_dense(o)"
   ]
  },
  {
   "cell_type": "code",
   "execution_count": 31,
   "metadata": {},
   "outputs": [],
   "source": [
    "# create the model object\n",
    "decoder_model = Model(\n",
    "  inputs=[\n",
    "    decoder_inputs_single,\n",
    "    encoder_outputs_as_input,\n",
    "    initial_s, \n",
    "    initial_c\n",
    "  ],\n",
    "  outputs=[decoder_outputs, s, c]\n",
    ")\n"
   ]
  },
  {
   "cell_type": "markdown",
   "metadata": {},
   "source": [
    "### Making Predictions\n",
    "\n",
    "In the tokenization steps, we converted words to integers. The outputs from the decoder will also be integers. However, we want our output to be a sequence of words in the French language. To do so, we need to convert the integers back to words. We will create new dictionaries for both inputs and outputs where the keys will be the integers and the corresponding values will be the words."
   ]
  },
  {
   "cell_type": "code",
   "execution_count": 32,
   "metadata": {},
   "outputs": [],
   "source": [
    "idx2word_eng = {v:k for k, v in word2idx_inputs.items()}\n",
    "idx2word_trans = {v:k for k, v in word2idx_outputs.items()}"
   ]
  },
  {
   "cell_type": "markdown",
   "metadata": {},
   "source": [
    "The decode_sequence() method will accept an input-padded sequence french sentence (in the integer form) and will return the translated english sentence. "
   ]
  },
  {
   "cell_type": "code",
   "execution_count": 33,
   "metadata": {},
   "outputs": [],
   "source": [
    "def decode_sequence(input_seq):\n",
    "  # Encode the input as state vectors.\n",
    "  enc_out = encoder_model.predict(input_seq)\n",
    "\n",
    "  # Generate empty target sequence of length 1.\n",
    "  target_seq = np.zeros((1, 1))\n",
    "  \n",
    "  # Populate the first character of target sequence with the start character.\n",
    "  # NOTE: tokenizer lower-cases all words\n",
    "  target_seq[0, 0] = word2idx_outputs['<sos>']\n",
    "\n",
    "  # if we get this we break\n",
    "  eos = word2idx_outputs['<eos>']\n",
    "\n",
    "\n",
    "  # [s, c] will be updated in each loop iteration\n",
    "  s = np.zeros((1, LATENT_DIM_DECODER))\n",
    "  c = np.zeros((1, LATENT_DIM_DECODER))\n",
    "\n",
    "\n",
    "  # Create the translation\n",
    "  output_sentence = []\n",
    "  for _ in range(max_len_target):\n",
    "    o, s, c = decoder_model.predict([target_seq, enc_out, s, c])\n",
    "        \n",
    "\n",
    "    # Get next word\n",
    "    idx = np.argmax(o.flatten())\n",
    "\n",
    "    # End sentence of EOS\n",
    "    if eos == idx:\n",
    "      break\n",
    "\n",
    "    word = ''\n",
    "    if idx > 0:\n",
    "      word = idx2word_trans[idx]\n",
    "      output_sentence.append(word)\n",
    "\n",
    "    # Update the decoder input\n",
    "    # which is just the word just generated\n",
    "    target_seq[0, 0] = idx\n",
    "\n",
    "  return ' '.join(output_sentence)"
   ]
  },
  {
   "cell_type": "markdown",
   "metadata": {},
   "source": [
    "### Testing the model\n",
    "To test the model, we use the french sentences from the test set, retrieve the corresponding padded sequence for the sentence, and will pass it to the decode_sequence() method. The method will return the translated sentence as shown below."
   ]
  },
  {
   "cell_type": "code",
   "execution_count": 34,
   "metadata": {},
   "outputs": [],
   "source": [
    "test_actual_sentence=[]\n",
    "test_predicted_sentence=[]\n",
    "for i in range(len(fr_test)):\n",
    "    # Do some test translations\n",
    "  \n",
    "  input_seq = encoder_inputs_test[i:i+1]\n",
    "  translation = decode_sequence(input_seq)\n",
    "\n",
    "  test_actual_sentence.append(target_texts_test[i])\n",
    "  test_predicted_sentence.append(translation)"
   ]
  },
  {
   "cell_type": "code",
   "execution_count": 37,
   "metadata": {},
   "outputs": [
    {
     "name": "stdout",
     "output_type": "stream",
     "text": [
      "-\n",
      "Input sentence: france est calme en novembre , mais il est généralement agréable en juillet .\n",
      "\n",
      "Predicted translation: france is quiet during november , but it is usually nice in july .\n",
      "\n",
      "Actual translation: france is quiet during november , but it is usually nice in july .\n",
      " <eos>\n",
      "-\n",
      "Input sentence: ils pourraient se rendre à paris au printemps prochain .\n",
      "\n",
      "Predicted translation: they might go to paris next spring .\n",
      "\n",
      "Actual translation: they might go to paris next spring .\n",
      " <eos>\n",
      "-\n",
      "Input sentence: new jersey est jamais pluvieux au cours de l' automne , et il est parfois doux en juillet .\n",
      "\n",
      "Predicted translation: new jersey is never rainy during autumn , and it is sometimes mild in july .\n",
      "\n",
      "Actual translation: new jersey is never rainy during fall , and it is sometimes mild in july .\n",
      " <eos>\n",
      "-\n",
      "Input sentence: la banane est son fruit préféré moins , mais le raisin est son moins préféré .\n",
      "\n",
      "Predicted translation: the banana is his least favorite fruit , but the grape is her least favorite .\n",
      "\n",
      "Actual translation: the banana is his least favorite fruit , but the grape is her least favorite .\n",
      " <eos>\n",
      "-\n",
      "Input sentence: chine est généralement agréable en été , mais jamais à sec en octobre .\n",
      "\n",
      "Predicted translation: china is usually nice during summer , but it is never dry in october .\n",
      "\n",
      "Actual translation: china is usually nice during summer , but it is never dry in october .\n",
      " <eos>\n"
     ]
    }
   ],
   "source": [
    "for i in np.random.randint(0,10000,5):\n",
    "    print('-')\n",
    "    print('Input sentence:', input_texts_test[i])\n",
    "    print('Predicted translation:', test_predicted_sentence[i])\n",
    "    print('Actual translation:', target_texts_test[i])"
   ]
  },
  {
   "cell_type": "markdown",
   "metadata": {},
   "source": [
    "### Evaluation metric: BLEU Score\n",
    "\n",
    "BLEU, or the Bilingual Evaluation Understudy, is a score for comparing a candidate translation of text to one or more reference translations. NLTK also provides a function called corpus_bleu() for calculating the BLEU score for multiple sentences such as a paragraph or a document.\n",
    "\n",
    "The references must be specified as a list of sentences where each sentence is a list of references and each alternative reference is a list of tokens, e.g. a list of lists of lists of tokens. The candidate sentences must be specified as a list where each sentence is a list of tokens\n",
    "\n",
    "Here we will be passing predicted translations as list of candidate sentences and actual sentences as list of reference sentences.\n"
   ]
  },
  {
   "cell_type": "code",
   "execution_count": 39,
   "metadata": {},
   "outputs": [],
   "source": [
    "import nltk\n",
    "pred=[]\n",
    "for words in test_predicted_sentence:\n",
    "    pred.append(words.split())"
   ]
  },
  {
   "cell_type": "code",
   "execution_count": 40,
   "metadata": {},
   "outputs": [],
   "source": [
    "actual=[]\n",
    "for words in test_actual_sentence:\n",
    "    actual.append(words.split())"
   ]
  },
  {
   "cell_type": "code",
   "execution_count": 45,
   "metadata": {},
   "outputs": [
    {
     "name": "stdout",
     "output_type": "stream",
     "text": [
      "0.3300595072757995\n"
     ]
    }
   ],
   "source": [
    "from nltk.translate.bleu_score import SmoothingFunction\n",
    "chencherry = SmoothingFunction()\n",
    "BLEUscore = nltk.translate.bleu_score.corpus_bleu(actual,pred,smoothing_function=chencherry.method4)\n",
    "print(BLEUscore)"
   ]
  }
 ],
 "metadata": {
  "kernelspec": {
   "display_name": "Python 3",
   "language": "python",
   "name": "python3"
  },
  "language_info": {
   "codemirror_mode": {
    "name": "ipython",
    "version": 3
   },
   "file_extension": ".py",
   "mimetype": "text/x-python",
   "name": "python",
   "nbconvert_exporter": "python",
   "pygments_lexer": "ipython3",
   "version": "3.7.3"
  }
 },
 "nbformat": 4,
 "nbformat_minor": 2
}
